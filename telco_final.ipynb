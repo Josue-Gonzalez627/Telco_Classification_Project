{
 "cells": [
  {
   "cell_type": "markdown",
   "id": "premier-milan",
   "metadata": {},
   "source": [
    "# Telco Classification Project"
   ]
  },
  {
   "cell_type": "markdown",
   "id": "going-assembly",
   "metadata": {},
   "source": [
    "## Imports"
   ]
  },
  {
   "cell_type": "code",
   "execution_count": 1,
   "id": "divided-poster",
   "metadata": {
    "tags": []
   },
   "outputs": [],
   "source": [
    "import pandas as pd\n",
    "import numpy as np\n",
    "import matplotlib.pyplot as plt\n",
    "plt.style.use('https://github.com/dhaitz/matplotlib-stylesheets/raw/master/pitayasmoothie-dark.mplstyle')\n",
    "pd.set_option('display.max_colwidth', 200)\n",
    "import seaborn as sns\n",
    "from scipy import stats\n",
    "import acquire as a\n",
    "import prepare as p\n",
    "import explore as e\n",
    "import model as m\n",
    "import os\n",
    "import env\n",
    "from pydataset import data\n",
    "import warnings\n",
    "warnings.filterwarnings(\"ignore\")\n",
    "from sklearn.model_selection import train_test_split\n",
    "from sklearn.tree import DecisionTreeClassifier, export_text, plot_tree\n",
    "from sklearn.ensemble import RandomForestClassifier\n",
    "from sklearn.linear_model import LogisticRegression #logistic not linear!\n",
    "from sklearn.neighbors import KNeighborsClassifier #pick the classifier one\n",
    "from sklearn.metrics import accuracy_score\n",
    "from sklearn.metrics import classification_report\n",
    "from sklearn.metrics import confusion_matrix\n",
    "from sklearn.metrics import ConfusionMatrixDisplay"
   ]
  },
  {
   "cell_type": "markdown",
   "id": "criminal-glory",
   "metadata": {},
   "source": [
    "## Acquire\n",
    "\n",
    "* Data acquired from the Codeup MySQL database `telco_churn`\n",
    "* Size is 7,043 rows and 24 columns before preparing.\n",
    "* Each row represents a customer at Telco\n",
    "* Each column represents a feature of the customers."
   ]
  },
  {
   "cell_type": "code",
   "execution_count": 2,
   "id": "d3b5c93c-009d-4de0-8b9b-06dc3bacc814",
   "metadata": {
    "tags": []
   },
   "outputs": [
    {
     "name": "stdout",
     "output_type": "stream",
     "text": [
      "this file exists, reading csv\n"
     ]
    }
   ],
   "source": [
    "df = a.get_telco_data()"
   ]
  },
  {
   "cell_type": "markdown",
   "id": "impossible-bible",
   "metadata": {
    "tags": []
   },
   "source": [
    "## Prepare\n",
    "\n",
    "* Drop duplicate columns that are unnecesary\n",
    "    * `payment_type_id`\n",
    "    * `internet_service_type_id`\n",
    "    * `contract_type_id`\n",
    "* Replaced empty space values with 0.0 to assign it a value\n",
    "* Filled null values with 'No internet service' because that's what it was originally supposed to represent, they weren't really null."
   ]
  },
  {
   "cell_type": "code",
   "execution_count": 4,
   "id": "flexible-irrigation",
   "metadata": {},
   "outputs": [],
   "source": [
    "df = p.prep_telco(df)"
   ]
  },
  {
   "cell_type": "code",
   "execution_count": 5,
   "id": "37e244ee-3eb1-4ed6-a72a-5c073ca66f53",
   "metadata": {
    "tags": []
   },
   "outputs": [],
   "source": [
    "# Splitting the DataFrame 'df' into training, validation, and test sets using the 'churn' column for stratification\n",
    "# The resulting subsets are assigned to variables 'train', 'validate', and 'test'\n",
    "\n",
    "train, validate, test = p.splitting_data(df, 'churn')"
   ]
  },
  {
   "cell_type": "code",
   "execution_count": 6,
   "id": "7e2eebec-19eb-4736-8dd7-934e128b1297",
   "metadata": {
    "tags": []
   },
   "outputs": [
    {
     "name": "stdout",
     "output_type": "stream",
     "text": [
      "(4225, 21)\n",
      "(1409, 21)\n"
     ]
    },
    {
     "data": {
      "text/plain": [
       "(1409, 21)"
      ]
     },
     "execution_count": 6,
     "metadata": {},
     "output_type": "execute_result"
    }
   ],
   "source": [
    "print(train.shape)\n",
    "print(validate.shape)\n",
    "test.shape"
   ]
  },
  {
   "cell_type": "markdown",
   "id": "immediate-mirror",
   "metadata": {
    "tags": []
   },
   "source": [
    "## Explore\n",
    "\n",
    "* Here you will explore your data then highlight 4 questions that you asked of the data and how those questions influenced your analysis\n",
    "* How often are customers churning\n",
    "* Is churn independent of tech support?\n",
    "* Is churn independent of internet service type?\n",
    "* Is churn independent of phone service?\n",
    "* Are there variations in churn based on monthly charges?\n",
    "* Each question should be supported by a visualization\n",
    "* Each question should be answered in natural language\n",
    "* Two questions must be supported by a statistical test, but you may choose to support more than two\n",
    "* See the following example, and read the comments in the next cell"
   ]
  },
  {
   "cell_type": "markdown",
   "id": "functional-sierra",
   "metadata": {},
   "source": [
    "**The following empty code block** is here to represent the countless questions, visualizations, and statistical tests \n",
    "that did not make your final report. Data scientist often create a myriad of questions, visualizations \n",
    "and statistical tests that do not make it into the final notebook. This is okay and expected. Remember \n",
    "that shotgun approaches to your data such as using pair plots to look at the relationships of each feature \n",
    "are a great way to explore your data, but they have no place in your final report. \n",
    "**Your final report is about showing and supporting your findings, not showing the work you did to get there!**"
   ]
  },
  {
   "cell_type": "code",
   "execution_count": 7,
   "id": "approximate-thong",
   "metadata": {},
   "outputs": [
    {
     "data": {
      "image/png": "[encoded data removed]",
      "text/plain": [
       "<Figure size 640x480 with 1 Axes>"
      ]
     },
     "metadata": {},
     "output_type": "display_data"
    },
    {
     "name": "stdout",
     "output_type": "stream",
     "text": [
      "27.0\n"
     ]
    }
   ],
   "source": [
    "df.churn.value_counts().plot.bar()\n",
    "plt.title('How many of our customers are churning?')\n",
    "plt.xlabel('Churn')\n",
    "plt.ylabel('# Of Customers')\n",
    "plt.show()\n",
    "print(round((df.churn == 'Yes').sum() / len(df),2)*100)"
   ]
  },
  {
   "cell_type": "markdown",
   "id": "incorrect-mailman",
   "metadata": {},
   "source": [
    "## You may use this as a template for how to ask and answer each question:"
   ]
  },
  {
   "cell_type": "markdown",
   "id": "1cd03b92-7b3b-4335-9dd8-0ba3b3ff91c4",
   "metadata": {},
   "source": [
    "### **Statistical Hypothesis Testing**"
   ]
  },
  {
   "cell_type": "code",
   "execution_count": 8,
   "id": "31eb447b-81d4-42da-95b1-6a33b441105c",
   "metadata": {
    "tags": []
   },
   "outputs": [
    {
     "name": "stdout",
     "output_type": "stream",
     "text": [
      "tech_support & churn\n",
      "\n",
      "Chi2: 482.09154879788\n",
      "P-value: 6.05233167722674e-101\n",
      "Degrees of Freedom: 6\n"
     ]
    },
    {
     "data": {
      "image/png": "[encoded data removed]",
      "text/plain": [
       "<Figure size 573.875x500 with 1 Axes>"
      ]
     },
     "metadata": {},
     "output_type": "display_data"
    }
   ],
   "source": [
    "# Use explore_categorical using train data to run Chi2 and plot\n",
    "e.explore_categorical(train, 'churn', 'tech_support')"
   ]
  },
  {
   "cell_type": "markdown",
   "id": "46a25fd7-ed60-4e8f-8f5d-a51736c5178c",
   "metadata": {
    "tags": []
   },
   "source": [
    "### **1. <i>Is `churn` independent of `tech_support`?</i>**\n",
    "<i> discrete (`churn`) vs Discrete (`tech_support`) = $Chi^2$ </i>\n",
    "\n",
    "* $H_0$: `churn` is independent from `tech_support`\n",
    "\n",
    "* $H_a$: `churn` is **NOT** independent from `tech_support`\n",
    "\n",
    "* α = 0.05\n",
    "\n",
    "    - $Chi^2$ = 482.09154879788\n",
    "    - $p$ = 6.05233167722674e-101\n",
    "    - $p$  <  α\n",
    "\n",
    "### <b> <u> We reject the null hypothesis. </u> </b>"
   ]
  },
  {
   "cell_type": "code",
   "execution_count": 9,
   "id": "db5a0308-d644-440e-b31e-c6276c73a699",
   "metadata": {
    "tags": []
   },
   "outputs": [
    {
     "name": "stdout",
     "output_type": "stream",
     "text": [
      "internet_service_type & churn\n",
      "\n",
      "Chi2: 417.88813854093104\n",
      "P-value: 3.9804371258943206e-87\n",
      "Degrees of Freedom: 6\n"
     ]
    },
    {
     "data": {
      "image/png": "[encoded data removed]",
      "text/plain": [
       "<Figure size 573.875x500 with 1 Axes>"
      ]
     },
     "metadata": {},
     "output_type": "display_data"
    }
   ],
   "source": [
    "# Use explore_categorical using train data to run Chi2 and plot\n",
    "e.explore_categorical(train, 'churn', 'internet_service_type')"
   ]
  },
  {
   "cell_type": "markdown",
   "id": "75e948ce-cf61-4b6e-bfed-a4e145b4d982",
   "metadata": {},
   "source": [
    "### **2. <i>Is there a difference in `churn` based on `internet_service_type`?</i>**\n",
    "<i> Discrete (`churn`) vs Discrete (`internet_service_type`) = $Chi^2$ </i>\n",
    "\n",
    "* $H_0$: `churn` is independent from `internet_service_type`\n",
    "\n",
    "* $H_a$: `churn` is **NOT** independent from `internet_service_type`\n",
    "\n",
    "* α = 0.05\n",
    "\n",
    "    - $Chi^2$ = 417.88813854093104\n",
    "    - $p$ = 3.9804371258943206e-87\n",
    "    - $p$  <  α\n",
    "\n",
    "### <b> <u> We reject the null hypothesis. </u> </b>"
   ]
  },
  {
   "cell_type": "code",
   "execution_count": 10,
   "id": "ded7313f-6437-41b5-82a3-d8a5096da16d",
   "metadata": {
    "tags": []
   },
   "outputs": [
    {
     "name": "stdout",
     "output_type": "stream",
     "text": [
      "phone_service & churn\n",
      "\n",
      "Chi2: 0.4404388389725981\n",
      "P-value: 0.9790341790305054\n",
      "Degrees of Freedom: 4\n"
     ]
    },
    {
     "data": {
      "image/png": "[encoded data removed]",
      "text/plain": [
       "<Figure size 573.875x500 with 1 Axes>"
      ]
     },
     "metadata": {},
     "output_type": "display_data"
    }
   ],
   "source": [
    "# Use explore_categorical using train data to run Chi2 and plot\n",
    "e.explore_categorical(train, 'churn', 'phone_service')"
   ]
  },
  {
   "cell_type": "markdown",
   "id": "8328b71e-2224-46fe-8a39-fdeb5349f847",
   "metadata": {},
   "source": [
    "### **3. <i>Is `churn` independent of `phone_service`?</i>**\n",
    "<i> discrete (`churn`) vs Discrete (`phone_service`) = $Chi^2$ </i>\n",
    "\n",
    "* $H_0$: `churn` is independent from `phone_service`\n",
    "\n",
    "* $H_a$: `churn` is **NOT** independent from `phone_service`\n",
    "\n",
    "* α = 0.05\n",
    "\n",
    "    - $Chi^2$ = 0.4404388389725981\n",
    "    - $p$ = 0.9790341790305054\n",
    "    - $p$  >  α\n",
    "\n",
    "### <b> <u> We fail to reject the null hypothesis. </u> </b>"
   ]
  },
  {
   "cell_type": "code",
   "execution_count": 11,
   "id": "15391e17-e443-4f1b-b780-8a2d7a0c77b3",
   "metadata": {
    "tags": []
   },
   "outputs": [
    {
     "data": {
      "image/png": "[encoded data removed]",
      "text/plain": [
       "<Figure size 640x480 with 1 Axes>"
      ]
     },
     "metadata": {},
     "output_type": "display_data"
    }
   ],
   "source": [
    "#Monthly charges and churn\n",
    "sns.boxplot(data=train, y='monthly_charges', x='churn')\n",
    "plt.title('Do customers that churn pay more per month?')\n",
    "plt.show()"
   ]
  },
  {
   "cell_type": "markdown",
   "id": "c595a7f0-c670-40df-b8c6-ee63d03201b3",
   "metadata": {},
   "source": [
    "It definitely seems like the median monthly charge is higher for customers that have churned compared to those that haven't."
   ]
  },
  {
   "cell_type": "code",
   "execution_count": 12,
   "id": "b1d365e0-bcb9-4e4a-8be4-251e177c322d",
   "metadata": {
    "tags": []
   },
   "outputs": [
    {
     "name": "stdout",
     "output_type": "stream",
     "text": [
      "We reject the null hypothesis\n",
      "5.279235952338065e-34\n",
      "12.264665996155202\n"
     ]
    }
   ],
   "source": [
    "churn_sample = train[train.churn == 'Yes'].monthly_charges\n",
    "no_churn_sample = train[train.churn == 'No'].monthly_charges\n",
    "\n",
    "t, p_val = stats.ttest_ind(churn_sample, no_churn_sample)\n",
    "\n",
    "if p_val < .05:\n",
    "    print(\"We reject the null hypothesis\")\n",
    "else:\n",
    "    print(\"We fail to reject the null hypothesis\")  \n",
    "print(p_val)\n",
    "print(t)"
   ]
  },
  {
   "cell_type": "markdown",
   "id": "17965326-78b9-4717-9684-ea3e05340da0",
   "metadata": {},
   "source": [
    "### **4. Is `churn` independent from `monthly_charges`?**\n",
    "Discrete (`churn`) vs Continuous (`monthly_charges`) = $Mann$-$Whitney$ $U$\n",
    "\n",
    "* $H_0$: There is **NO** difference in `churn` based on `monthly_charges`\n",
    "\n",
    "* $H_a$: There is a difference in `churn` based on `monthly_charges`\n",
    "\n",
    "* α = 0.05\n",
    "\n",
    "    - T-test statistic = 12.264665996155202\n",
    "    - $p$ = 5.279235952338065e-34\n",
    "    - $p$  <  α\n",
    "\n",
    "### <b> <u> We reject the null hypothesis. </u> </b>"
   ]
  },
  {
   "cell_type": "markdown",
   "id": "78af1aec-b5b1-4952-9967-f9d864dcbe34",
   "metadata": {
    "tags": []
   },
   "source": [
    "#### **After visual exploration of the bivariate and multivariate data, we determined some drivers of `churn` are:**\n",
    "\n",
    "- `tech_support` *- those without support, tend to churn*\n",
    "\n",
    "- `fiber_optic_internet` *- customers with fiber optic internet appear to churn more*\n",
    "\n",
    "- `monthly_charges` *- higher monthly among members that churn*\n",
    "\n",
    "#### **Not a driver of `churn`:**\n",
    "- `phone_service` *- customers subscribed to phone service churn the same as those not subscribed"
   ]
  },
  {
   "cell_type": "markdown",
   "id": "aefa973c-82fa-4c69-b8b7-85907b7ccaef",
   "metadata": {},
   "source": [
    "# Modeling"
   ]
  },
  {
   "cell_type": "markdown",
   "id": "4a1d7ae5-6017-4692-9145-6bcd7916e8af",
   "metadata": {
    "tags": []
   },
   "source": [
    "### Encoding"
   ]
  },
  {
   "cell_type": "markdown",
   "id": "ba093784-1bf1-4369-975c-ef9c9ada216e",
   "metadata": {},
   "source": [
    "### We'll move onto modeling. Accuracy is going to be the evaluation metric. Our baseline will be 73%, assuming no churn."
   ]
  },
  {
   "cell_type": "code",
   "execution_count": 14,
   "id": "78b88eb4-cb57-4e92-9e3c-60c28303a979",
   "metadata": {
    "tags": []
   },
   "outputs": [
    {
     "data": {
      "text/plain": [
       "churn_Yes\n",
       "0    0.734675\n",
       "1    0.265325\n",
       "Name: proportion, dtype: float64"
      ]
     },
     "execution_count": 14,
     "metadata": {},
     "output_type": "execute_result"
    }
   ],
   "source": [
    "# Set baseline accuracy\n",
    "encoded_train.churn_Yes.value_counts(normalize=True)"
   ]
  },
  {
   "cell_type": "markdown",
   "id": "7f3a207e-d64f-44ac-9837-a5dcfa5ec141",
   "metadata": {},
   "source": [
    "### Decision Tree"
   ]
  },
  {
   "cell_type": "code",
   "execution_count": 15,
   "id": "40d7388e-1725-4466-8f63-dcaab6d2d2ca",
   "metadata": {
    "tags": []
   },
   "outputs": [],
   "source": [
    "train['total_charges'] = (train.total_charges + '0').astype(float)"
   ]
  },
  {
   "cell_type": "code",
   "execution_count": 16,
   "id": "6244cdf7-e131-4d0e-a31b-f0f21dbbe550",
   "metadata": {
    "tags": []
   },
   "outputs": [],
   "source": [
    "train, validate, test = p.preprocess_telco(train, validate, test)"
   ]
  },
  {
   "cell_type": "code",
   "execution_count": 17,
   "id": "eb77bdc8-6da6-4be6-bfcb-e3039623db5f",
   "metadata": {
    "tags": []
   },
   "outputs": [
    {
     "data": {
      "text/plain": [
       "customer_id                                   object\n",
       "senior_citizen                                 int64\n",
       "tenure                                         int64\n",
       "monthly_charges                              float64\n",
       "total_charges                                float64\n",
       "gender_Male                                    int64\n",
       "partner_Yes                                    int64\n",
       "dependents_Yes                                 int64\n",
       "multiple_lines_No phone service                int64\n",
       "multiple_lines_Yes                             int64\n",
       "online_security_No internet service            int64\n",
       "online_security_Yes                            int64\n",
       "online_backup_No internet service              int64\n",
       "online_backup_Yes                              int64\n",
       "device_protection_No internet service          int64\n",
       "device_protection_Yes                          int64\n",
       "tech_support_No internet service               int64\n",
       "tech_support_Yes                               int64\n",
       "streaming_tv_No internet service               int64\n",
       "streaming_tv_Yes                               int64\n",
       "streaming_movies_No internet service           int64\n",
       "streaming_movies_Yes                           int64\n",
       "paperless_billing_Yes                          int64\n",
       "churn_Yes                                      int64\n",
       "contract_type_One year                         int64\n",
       "contract_type_Two year                         int64\n",
       "internet_service_type_Fiber optic              int64\n",
       "internet_service_type_No internet service      int64\n",
       "payment_type_Credit card (automatic)           int64\n",
       "payment_type_Electronic check                  int64\n",
       "payment_type_Mailed check                      int64\n",
       "dtype: object"
      ]
     },
     "execution_count": 17,
     "metadata": {},
     "output_type": "execute_result"
    }
   ],
   "source": [
    "train.dtypes"
   ]
  },
  {
   "cell_type": "code",
   "execution_count": 21,
   "id": "a727ba94-66bb-4f53-9691-ac3cea93842f",
   "metadata": {
    "tags": []
   },
   "outputs": [
    {
     "data": {
      "text/html": [
       "<div>\n",
       "<style scoped>\n",
       "    .dataframe tbody tr th:only-of-type {\n",
       "        vertical-align: middle;\n",
       "    }\n",
       "\n",
       "    .dataframe tbody tr th {\n",
       "        vertical-align: top;\n",
       "    }\n",
       "\n",
       "    .dataframe thead th {\n",
       "        text-align: right;\n",
       "    }\n",
       "</style>\n",
       "<table border=\"1\" class=\"dataframe\">\n",
       "  <thead>\n",
       "    <tr style=\"text-align: right;\">\n",
       "      <th></th>\n",
       "      <th>2865</th>\n",
       "    </tr>\n",
       "  </thead>\n",
       "  <tbody>\n",
       "    <tr>\n",
       "      <th>customer_id</th>\n",
       "      <td>4083-BFNYK</td>\n",
       "    </tr>\n",
       "    <tr>\n",
       "      <th>senior_citizen</th>\n",
       "      <td>1</td>\n",
       "    </tr>\n",
       "    <tr>\n",
       "      <th>tenure</th>\n",
       "      <td>38</td>\n",
       "    </tr>\n",
       "    <tr>\n",
       "      <th>monthly_charges</th>\n",
       "      <td>95.0</td>\n",
       "    </tr>\n",
       "    <tr>\n",
       "      <th>total_charges</th>\n",
       "      <td>3591.25</td>\n",
       "    </tr>\n",
       "    <tr>\n",
       "      <th>gender_Male</th>\n",
       "      <td>0</td>\n",
       "    </tr>\n",
       "    <tr>\n",
       "      <th>partner_Yes</th>\n",
       "      <td>1</td>\n",
       "    </tr>\n",
       "    <tr>\n",
       "      <th>dependents_Yes</th>\n",
       "      <td>0</td>\n",
       "    </tr>\n",
       "    <tr>\n",
       "      <th>multiple_lines_No phone service</th>\n",
       "      <td>0</td>\n",
       "    </tr>\n",
       "    <tr>\n",
       "      <th>multiple_lines_Yes</th>\n",
       "      <td>1</td>\n",
       "    </tr>\n",
       "    <tr>\n",
       "      <th>online_security_No internet service</th>\n",
       "      <td>0</td>\n",
       "    </tr>\n",
       "    <tr>\n",
       "      <th>online_security_Yes</th>\n",
       "      <td>1</td>\n",
       "    </tr>\n",
       "    <tr>\n",
       "      <th>online_backup_No internet service</th>\n",
       "      <td>0</td>\n",
       "    </tr>\n",
       "    <tr>\n",
       "      <th>online_backup_Yes</th>\n",
       "      <td>1</td>\n",
       "    </tr>\n",
       "    <tr>\n",
       "      <th>device_protection_No internet service</th>\n",
       "      <td>0</td>\n",
       "    </tr>\n",
       "    <tr>\n",
       "      <th>device_protection_Yes</th>\n",
       "      <td>0</td>\n",
       "    </tr>\n",
       "    <tr>\n",
       "      <th>tech_support_No internet service</th>\n",
       "      <td>0</td>\n",
       "    </tr>\n",
       "    <tr>\n",
       "      <th>tech_support_Yes</th>\n",
       "      <td>0</td>\n",
       "    </tr>\n",
       "    <tr>\n",
       "      <th>streaming_tv_No internet service</th>\n",
       "      <td>0</td>\n",
       "    </tr>\n",
       "    <tr>\n",
       "      <th>streaming_tv_Yes</th>\n",
       "      <td>0</td>\n",
       "    </tr>\n",
       "    <tr>\n",
       "      <th>streaming_movies_No internet service</th>\n",
       "      <td>0</td>\n",
       "    </tr>\n",
       "    <tr>\n",
       "      <th>streaming_movies_Yes</th>\n",
       "      <td>1</td>\n",
       "    </tr>\n",
       "    <tr>\n",
       "      <th>paperless_billing_Yes</th>\n",
       "      <td>0</td>\n",
       "    </tr>\n",
       "    <tr>\n",
       "      <th>churn_Yes</th>\n",
       "      <td>0</td>\n",
       "    </tr>\n",
       "    <tr>\n",
       "      <th>contract_type_One year</th>\n",
       "      <td>1</td>\n",
       "    </tr>\n",
       "    <tr>\n",
       "      <th>contract_type_Two year</th>\n",
       "      <td>0</td>\n",
       "    </tr>\n",
       "    <tr>\n",
       "      <th>internet_service_type_Fiber optic</th>\n",
       "      <td>1</td>\n",
       "    </tr>\n",
       "    <tr>\n",
       "      <th>internet_service_type_No internet service</th>\n",
       "      <td>0</td>\n",
       "    </tr>\n",
       "    <tr>\n",
       "      <th>payment_type_Credit card (automatic)</th>\n",
       "      <td>1</td>\n",
       "    </tr>\n",
       "    <tr>\n",
       "      <th>payment_type_Electronic check</th>\n",
       "      <td>0</td>\n",
       "    </tr>\n",
       "    <tr>\n",
       "      <th>payment_type_Mailed check</th>\n",
       "      <td>0</td>\n",
       "    </tr>\n",
       "  </tbody>\n",
       "</table>\n",
       "</div>"
      ],
      "text/plain": [
       "                                                 2865\n",
       "customer_id                                4083-BFNYK\n",
       "senior_citizen                                      1\n",
       "tenure                                             38\n",
       "monthly_charges                                  95.0\n",
       "total_charges                                 3591.25\n",
       "gender_Male                                         0\n",
       "partner_Yes                                         1\n",
       "dependents_Yes                                      0\n",
       "multiple_lines_No phone service                     0\n",
       "multiple_lines_Yes                                  1\n",
       "online_security_No internet service                 0\n",
       "online_security_Yes                                 1\n",
       "online_backup_No internet service                   0\n",
       "online_backup_Yes                                   1\n",
       "device_protection_No internet service               0\n",
       "device_protection_Yes                               0\n",
       "tech_support_No internet service                    0\n",
       "tech_support_Yes                                    0\n",
       "streaming_tv_No internet service                    0\n",
       "streaming_tv_Yes                                    0\n",
       "streaming_movies_No internet service                0\n",
       "streaming_movies_Yes                                1\n",
       "paperless_billing_Yes                               0\n",
       "churn_Yes                                           0\n",
       "contract_type_One year                              1\n",
       "contract_type_Two year                              0\n",
       "internet_service_type_Fiber optic                   1\n",
       "internet_service_type_No internet service           0\n",
       "payment_type_Credit card (automatic)                1\n",
       "payment_type_Electronic check                       0\n",
       "payment_type_Mailed check                           0"
      ]
     },
     "execution_count": 21,
     "metadata": {},
     "output_type": "execute_result"
    }
   ],
   "source": [
    "train.head(1).T"
   ]
  },
  {
   "cell_type": "code",
   "execution_count": 19,
   "id": "fc5c4cbc-6feb-4d44-b9dd-61f387816b6c",
   "metadata": {
    "tags": []
   },
   "outputs": [
    {
     "ename": "KeyError",
     "evalue": "\"['churn_yes'] not found in axis\"",
     "output_type": "error",
     "traceback": [
      "\u001b[0;31m---------------------------------------------------------------------------\u001b[0m",
      "\u001b[0;31mKeyError\u001b[0m                                  Traceback (most recent call last)",
      "Cell \u001b[0;32mIn[19], line 2\u001b[0m\n\u001b[1;32m      1\u001b[0m \u001b[38;5;66;03m### We want everything EXCEPT the target variable\u001b[39;00m\n\u001b[0;32m----> 2\u001b[0m X_train \u001b[38;5;241m=\u001b[39m train\u001b[38;5;241m.\u001b[39mdrop(columns \u001b[38;5;241m=\u001b[39m \u001b[38;5;124m'\u001b[39m\u001b[38;5;124mchurn_yes\u001b[39m\u001b[38;5;124m'\u001b[39m)\n\u001b[1;32m      3\u001b[0m X_validate \u001b[38;5;241m=\u001b[39m validate\u001b[38;5;241m.\u001b[39mdrop(columns \u001b[38;5;241m=\u001b[39m \u001b[38;5;124m'\u001b[39m\u001b[38;5;124mchurn_yes\u001b[39m\u001b[38;5;124m'\u001b[39m)\n\u001b[1;32m      4\u001b[0m X_test \u001b[38;5;241m=\u001b[39m test\u001b[38;5;241m.\u001b[39mdrop(columns \u001b[38;5;241m=\u001b[39m \u001b[38;5;124m'\u001b[39m\u001b[38;5;124mchurn_yes\u001b[39m\u001b[38;5;124m'\u001b[39m)\n",
      "File \u001b[0;32m/opt/homebrew/anaconda3/lib/python3.11/site-packages/pandas/core/frame.py:5258\u001b[0m, in \u001b[0;36mDataFrame.drop\u001b[0;34m(self, labels, axis, index, columns, level, inplace, errors)\u001b[0m\n\u001b[1;32m   5110\u001b[0m \u001b[38;5;28;01mdef\u001b[39;00m \u001b[38;5;21mdrop\u001b[39m(\n\u001b[1;32m   5111\u001b[0m     \u001b[38;5;28mself\u001b[39m,\n\u001b[1;32m   5112\u001b[0m     labels: IndexLabel \u001b[38;5;241m=\u001b[39m \u001b[38;5;28;01mNone\u001b[39;00m,\n\u001b[0;32m   (...)\u001b[0m\n\u001b[1;32m   5119\u001b[0m     errors: IgnoreRaise \u001b[38;5;241m=\u001b[39m \u001b[38;5;124m\"\u001b[39m\u001b[38;5;124mraise\u001b[39m\u001b[38;5;124m\"\u001b[39m,\n\u001b[1;32m   5120\u001b[0m ) \u001b[38;5;241m-\u001b[39m\u001b[38;5;241m>\u001b[39m DataFrame \u001b[38;5;241m|\u001b[39m \u001b[38;5;28;01mNone\u001b[39;00m:\n\u001b[1;32m   5121\u001b[0m \u001b[38;5;250m    \u001b[39m\u001b[38;5;124;03m\"\"\"\u001b[39;00m\n\u001b[1;32m   5122\u001b[0m \u001b[38;5;124;03m    Drop specified labels from rows or columns.\u001b[39;00m\n\u001b[1;32m   5123\u001b[0m \n\u001b[0;32m   (...)\u001b[0m\n\u001b[1;32m   5256\u001b[0m \u001b[38;5;124;03m            weight  1.0     0.8\u001b[39;00m\n\u001b[1;32m   5257\u001b[0m \u001b[38;5;124;03m    \"\"\"\u001b[39;00m\n\u001b[0;32m-> 5258\u001b[0m     \u001b[38;5;28;01mreturn\u001b[39;00m \u001b[38;5;28msuper\u001b[39m()\u001b[38;5;241m.\u001b[39mdrop(\n\u001b[1;32m   5259\u001b[0m         labels\u001b[38;5;241m=\u001b[39mlabels,\n\u001b[1;32m   5260\u001b[0m         axis\u001b[38;5;241m=\u001b[39maxis,\n\u001b[1;32m   5261\u001b[0m         index\u001b[38;5;241m=\u001b[39mindex,\n\u001b[1;32m   5262\u001b[0m         columns\u001b[38;5;241m=\u001b[39mcolumns,\n\u001b[1;32m   5263\u001b[0m         level\u001b[38;5;241m=\u001b[39mlevel,\n\u001b[1;32m   5264\u001b[0m         inplace\u001b[38;5;241m=\u001b[39minplace,\n\u001b[1;32m   5265\u001b[0m         errors\u001b[38;5;241m=\u001b[39merrors,\n\u001b[1;32m   5266\u001b[0m     )\n",
      "File \u001b[0;32m/opt/homebrew/anaconda3/lib/python3.11/site-packages/pandas/core/generic.py:4549\u001b[0m, in \u001b[0;36mNDFrame.drop\u001b[0;34m(self, labels, axis, index, columns, level, inplace, errors)\u001b[0m\n\u001b[1;32m   4547\u001b[0m \u001b[38;5;28;01mfor\u001b[39;00m axis, labels \u001b[38;5;129;01min\u001b[39;00m axes\u001b[38;5;241m.\u001b[39mitems():\n\u001b[1;32m   4548\u001b[0m     \u001b[38;5;28;01mif\u001b[39;00m labels \u001b[38;5;129;01mis\u001b[39;00m \u001b[38;5;129;01mnot\u001b[39;00m \u001b[38;5;28;01mNone\u001b[39;00m:\n\u001b[0;32m-> 4549\u001b[0m         obj \u001b[38;5;241m=\u001b[39m obj\u001b[38;5;241m.\u001b[39m_drop_axis(labels, axis, level\u001b[38;5;241m=\u001b[39mlevel, errors\u001b[38;5;241m=\u001b[39merrors)\n\u001b[1;32m   4551\u001b[0m \u001b[38;5;28;01mif\u001b[39;00m inplace:\n\u001b[1;32m   4552\u001b[0m     \u001b[38;5;28mself\u001b[39m\u001b[38;5;241m.\u001b[39m_update_inplace(obj)\n",
      "File \u001b[0;32m/opt/homebrew/anaconda3/lib/python3.11/site-packages/pandas/core/generic.py:4591\u001b[0m, in \u001b[0;36mNDFrame._drop_axis\u001b[0;34m(self, labels, axis, level, errors, only_slice)\u001b[0m\n\u001b[1;32m   4589\u001b[0m         new_axis \u001b[38;5;241m=\u001b[39m axis\u001b[38;5;241m.\u001b[39mdrop(labels, level\u001b[38;5;241m=\u001b[39mlevel, errors\u001b[38;5;241m=\u001b[39merrors)\n\u001b[1;32m   4590\u001b[0m     \u001b[38;5;28;01melse\u001b[39;00m:\n\u001b[0;32m-> 4591\u001b[0m         new_axis \u001b[38;5;241m=\u001b[39m axis\u001b[38;5;241m.\u001b[39mdrop(labels, errors\u001b[38;5;241m=\u001b[39merrors)\n\u001b[1;32m   4592\u001b[0m     indexer \u001b[38;5;241m=\u001b[39m axis\u001b[38;5;241m.\u001b[39mget_indexer(new_axis)\n\u001b[1;32m   4594\u001b[0m \u001b[38;5;66;03m# Case for non-unique axis\u001b[39;00m\n\u001b[1;32m   4595\u001b[0m \u001b[38;5;28;01melse\u001b[39;00m:\n",
      "File \u001b[0;32m/opt/homebrew/anaconda3/lib/python3.11/site-packages/pandas/core/indexes/base.py:6699\u001b[0m, in \u001b[0;36mIndex.drop\u001b[0;34m(self, labels, errors)\u001b[0m\n\u001b[1;32m   6697\u001b[0m \u001b[38;5;28;01mif\u001b[39;00m mask\u001b[38;5;241m.\u001b[39many():\n\u001b[1;32m   6698\u001b[0m     \u001b[38;5;28;01mif\u001b[39;00m errors \u001b[38;5;241m!=\u001b[39m \u001b[38;5;124m\"\u001b[39m\u001b[38;5;124mignore\u001b[39m\u001b[38;5;124m\"\u001b[39m:\n\u001b[0;32m-> 6699\u001b[0m         \u001b[38;5;28;01mraise\u001b[39;00m \u001b[38;5;167;01mKeyError\u001b[39;00m(\u001b[38;5;124mf\u001b[39m\u001b[38;5;124m\"\u001b[39m\u001b[38;5;132;01m{\u001b[39;00m\u001b[38;5;28mlist\u001b[39m(labels[mask])\u001b[38;5;132;01m}\u001b[39;00m\u001b[38;5;124m not found in axis\u001b[39m\u001b[38;5;124m\"\u001b[39m)\n\u001b[1;32m   6700\u001b[0m     indexer \u001b[38;5;241m=\u001b[39m indexer[\u001b[38;5;241m~\u001b[39mmask]\n\u001b[1;32m   6701\u001b[0m \u001b[38;5;28;01mreturn\u001b[39;00m \u001b[38;5;28mself\u001b[39m\u001b[38;5;241m.\u001b[39mdelete(indexer)\n",
      "\u001b[0;31mKeyError\u001b[0m: \"['churn_yes'] not found in axis\""
     ]
    }
   ],
   "source": [
    "### We want everything EXCEPT the target variable\n",
    "X_train = train.drop(columns = 'churn_yes')\n",
    "X_validate = validate.drop(columns = 'churn_yes')\n",
    "X_test = test.drop(columns = 'churn_yes')"
   ]
  },
  {
   "cell_type": "code",
   "execution_count": null,
   "id": "b6e6cc53-cbf5-4478-b53c-3ee98ba8d968",
   "metadata": {},
   "outputs": [],
   "source": []
  },
  {
   "cell_type": "markdown",
   "id": "hydraulic-spectrum",
   "metadata": {},
   "source": [
    "### Introduction\n",
    "* Explain how you will be evaluating your models\n",
    "* Include the evaluation metric you will be using and why you have chosen it\n",
    "* Create a baseline and briefly explain how it was calculated "
   ]
  },
  {
   "cell_type": "code",
   "execution_count": 20,
   "id": "ranging-rebecca",
   "metadata": {},
   "outputs": [],
   "source": [
    "# If you use code to generate your baseline run the code and generate the output here"
   ]
  },
  {
   "cell_type": "markdown",
   "id": "thick-dream",
   "metadata": {},
   "source": [
    "Printout should read: <br>\n",
    "Baseline: \"number\" \"evaluation metric\""
   ]
  },
  {
   "cell_type": "markdown",
   "id": "emotional-purchase",
   "metadata": {},
   "source": [
    "### Best 3 Models\n",
    "* Show the three best model results obtained using your selected features to predict the target variable\n",
    "* Typically students will show the top models they are able to generate for three different model types"
   ]
  },
  {
   "cell_type": "markdown",
   "id": "gentle-capability",
   "metadata": {},
   "source": [
    "## You may use this as a template for how to introduce your models:"
   ]
  },
  {
   "cell_type": "markdown",
   "id": "intensive-vietnamese",
   "metadata": {},
   "source": [
    "### Model Type"
   ]
  },
  {
   "cell_type": "code",
   "execution_count": 4,
   "id": "colonial-newport",
   "metadata": {},
   "outputs": [],
   "source": [
    "# Code that runs the best model in that model type goes here \n",
    "# (This may be imported from a module)"
   ]
  },
  {
   "cell_type": "markdown",
   "id": "distinguished-abuse",
   "metadata": {},
   "source": [
    "Printout of model code should read: <br>\n",
    "\"Model Type\" <br>\n",
    "\"evaluation metric\" on train: \"evaluation result\" <br>\n",
    "\"evaluation metric\" on validate: \"evaluation result\""
   ]
  },
  {
   "cell_type": "markdown",
   "id": "regulated-fellowship",
   "metadata": {},
   "source": [
    "### Test Model\n",
    "* Choose the best model out of the three as you best model and explain why you have chosen it\n",
    "* Explain that you will now run your final model on test data to gauge how it will perform on unseen data"
   ]
  },
  {
   "cell_type": "code",
   "execution_count": 5,
   "id": "optical-quilt",
   "metadata": {},
   "outputs": [],
   "source": [
    "# Code that runs the best overall model on test data (this may be imported from a module)"
   ]
  },
  {
   "cell_type": "markdown",
   "id": "motivated-recycling",
   "metadata": {},
   "source": [
    "Printout of model code should read: <br>\n",
    "\"Model Type\" <br>\n",
    "\"evaluation metric\" on Test: \"evaluation result\" <br>"
   ]
  },
  {
   "cell_type": "markdown",
   "id": "bright-evans",
   "metadata": {},
   "source": [
    "### Modeling Wrap \n",
    "* Give a final interpretation of how the models test score compares to the baseline and weather you would recommend this model for production"
   ]
  },
  {
   "cell_type": "markdown",
   "id": "tutorial-twelve",
   "metadata": {},
   "source": [
    "## Conclusion\n",
    "\n",
    "### Summary\n",
    "* I would believe RandomForest would be the best due to the risk of overfitting.\n",
    "* Identifiers of churn were `tech_support`, `internet_service_type`, and `monthly_charges`.\n",
    "* `phone_service` was independent of churn\n",
    "\n",
    "### Recommendations\n",
    "* I recommend finding the issues with fiber_optic internet and would possibly offer tech support for free or cheaper, since people without it tent to leave.\n",
    "\n",
    "### Next Steps\n",
    "- Look into the high monthly charges and the contract type to see if more expensive month to month is causing more churn\n",
    "\n",
    "- Given more time I could check what is causing the high monthly charges that lead to customers churning"
   ]
  },
  {
   "cell_type": "markdown",
   "id": "20981561-7a24-429f-bdad-830f94740959",
   "metadata": {},
   "source": [
    "# CSV Export "
   ]
  },
  {
   "cell_type": "markdown",
   "id": "tender-source",
   "metadata": {},
   "source": [
    "**Where there is code in your report there should also be code comments telling the reader what each code block is doing. This is true for any and all code blocks even if you are using a function to import code from a module.**\n",
    "<br>\n",
    "<br>\n",
    "**Your Notebook should contain adequate markdown that documents your thought process, decision making, and navigation through the pipeline. As a Data Scientist, your job does not end with making data discoveries. It includes effectively communicating those discoveries as well. This means documentation is a critical part of your job.**"
   ]
  }
 ],
 "metadata": {
  "kernelspec": {
   "display_name": "Python 3 (ipykernel)",
   "language": "python",
   "name": "python3"
  },
  "language_info": {
   "codemirror_mode": {
    "name": "ipython",
    "version": 3
   },
   "file_extension": ".py",
   "mimetype": "text/x-python",
   "name": "python",
   "nbconvert_exporter": "python",
   "pygments_lexer": "ipython3",
   "version": "3.11.5"
  }
 },
 "nbformat": 4,
 "nbformat_minor": 5
}
