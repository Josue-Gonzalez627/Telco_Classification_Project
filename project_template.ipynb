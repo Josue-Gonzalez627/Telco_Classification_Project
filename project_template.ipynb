{
 "cells": [
  {
   "cell_type": "markdown",
   "id": "premier-milan",
   "metadata": {},
   "source": [
    "# Telco Classification Project"
   ]
  },
  {
   "cell_type": "markdown",
   "id": "going-assembly",
   "metadata": {},
   "source": [
    "## Imports"
   ]
  },
  {
   "cell_type": "code",
   "execution_count": 1,
   "id": "divided-poster",
   "metadata": {
    "tags": []
   },
   "outputs": [],
   "source": [
    "import pandas as pd\n",
    "import numpy as np\n",
    "import matplotlib.pyplot as plt\n",
    "plt.style.use('https://github.com/dhaitz/matplotlib-stylesheets/raw/master/pitayasmoothie-dark.mplstyle')\n",
    "pd.set_option('display.max_colwidth', 200)\n",
    "import seaborn as sns\n",
    "from scipy import stats\n",
    "import acquire as a\n",
    "import prepare as p\n",
    "import explore as e\n",
    "import model as m\n",
    "import os\n",
    "import env\n",
    "from pydataset import data\n",
    "import warnings\n",
    "warnings.filterwarnings(\"ignore\")\n",
    "from sklearn.model_selection import train_test_split\n",
    "from sklearn.tree import DecisionTreeClassifier, export_text, plot_tree\n",
    "from sklearn.ensemble import RandomForestClassifier\n",
    "from sklearn.linear_model import LogisticRegression #logistic not linear!\n",
    "from sklearn.neighbors import KNeighborsClassifier #pick the classifier one\n",
    "from sklearn.metrics import accuracy_score\n",
    "from sklearn.metrics import classification_report\n",
    "from sklearn.metrics import confusion_matrix\n",
    "from sklearn.metrics import ConfusionMatrixDisplay"
   ]
  },
  {
   "cell_type": "markdown",
   "id": "criminal-glory",
   "metadata": {},
   "source": [
    "## Acquire\n",
    "\n",
    "* Data acquired from the Codeup MySQL database `telco_churn`\n",
    "* Size is 7,043 rows and 24 columns before preparing.\n",
    "* Each row represents a customer at Telco\n",
    "* Each column represents a feature of the customers."
   ]
  },
  {
   "cell_type": "code",
   "execution_count": 2,
   "id": "paperback-gather",
   "metadata": {
    "tags": []
   },
   "outputs": [],
   "source": [
    "# Import acquired messy data from your acquire file here\n",
    "def get_telco_data():\n",
    "    '''\n",
    "    Retrieves the telco dataframe. The MySQL query will return all columns from the customers table,\n",
    "    with the three additional columns because of the joins using their ids.\n",
    "    The check file function will assure the telco file exists and what to do if it doesn't.\n",
    "    '''\n",
    "    url = env.get_db_url('telco_churn')\n",
    "    query = '''\n",
    "    select *\n",
    "    from customers\n",
    "        join contract_types\n",
    "            using (contract_type_id)\n",
    "        join internet_service_types\n",
    "            using (internet_service_type_id)\n",
    "        join payment_types\n",
    "            using (payment_type_id)\n",
    "    '''\n",
    "    \n",
    "    filename = 'telco_churn.csv'\n",
    "\n",
    "    #call the check_file_exists fuction \n",
    "    df = check_file_exists(filename, query, url)\n",
    "    return df"
   ]
  },
  {
   "cell_type": "code",
   "execution_count": 3,
   "id": "d3b5c93c-009d-4de0-8b9b-06dc3bacc814",
   "metadata": {
    "tags": []
   },
   "outputs": [
    {
     "name": "stdout",
     "output_type": "stream",
     "text": [
      "this file exists, reading csv\n"
     ]
    }
   ],
   "source": [
    "df = a.get_telco_data()"
   ]
  },
  {
   "cell_type": "code",
   "execution_count": 4,
   "id": "76db92f8-dbe0-4ebe-b1c0-fe4f350a0854",
   "metadata": {
    "tags": []
   },
   "outputs": [
    {
     "data": {
      "text/plain": [
       "(7043, 24)"
      ]
     },
     "execution_count": 4,
     "metadata": {},
     "output_type": "execute_result"
    }
   ],
   "source": [
    "df.shape"
   ]
  },
  {
   "cell_type": "markdown",
   "id": "impossible-bible",
   "metadata": {},
   "source": [
    "## Prepare\n",
    "\n",
    "* Drop duplicate columns that are unnecesary\n",
    "    * `payment_type_id`\n",
    "    * `internet_service_type_id`\n",
    "    * `contract_type_id`\n",
    "* Replaced empty space values with 0.0 to assign it a value\n",
    "* Filled null values with 'No internet service' because that's what it was originally supposed to represent, they weren't really null."
   ]
  },
  {
   "cell_type": "code",
   "execution_count": 5,
   "id": "flexible-irrigation",
   "metadata": {},
   "outputs": [],
   "source": [
    "df = p.prep_telco(df)"
   ]
  },
  {
   "cell_type": "code",
   "execution_count": 6,
   "id": "245ac1fa-626d-42fd-b9db-53ddee349b64",
   "metadata": {
    "tags": []
   },
   "outputs": [
    {
     "data": {
      "text/plain": [
       "(7043, 21)"
      ]
     },
     "execution_count": 6,
     "metadata": {},
     "output_type": "execute_result"
    }
   ],
   "source": [
    "df.shape"
   ]
  },
  {
   "cell_type": "code",
   "execution_count": 7,
   "id": "66c91086-2979-4709-953a-b8a8a3827b5b",
   "metadata": {
    "tags": []
   },
   "outputs": [
    {
     "data": {
      "text/plain": [
       "internet_service_type\n",
       "Fiber optic            3096\n",
       "DSL                    2421\n",
       "No internet service    1526\n",
       "Name: count, dtype: int64"
      ]
     },
     "execution_count": 7,
     "metadata": {},
     "output_type": "execute_result"
    }
   ],
   "source": [
    "df.internet_service_type.value_counts()"
   ]
  },
  {
   "cell_type": "code",
   "execution_count": 8,
   "id": "37e244ee-3eb1-4ed6-a72a-5c073ca66f53",
   "metadata": {
    "tags": []
   },
   "outputs": [],
   "source": [
    "# Splitting the DataFrame 'df' into training, validation, and test sets using the 'churn' column for stratification\n",
    "# The resulting subsets are assigned to variables 'train', 'validate', and 'test'\n",
    "\n",
    "train, validate, test = p.splitting_data(df, 'churn')"
   ]
  },
  {
   "cell_type": "code",
   "execution_count": 9,
   "id": "7e2eebec-19eb-4736-8dd7-934e128b1297",
   "metadata": {
    "tags": []
   },
   "outputs": [
    {
     "name": "stdout",
     "output_type": "stream",
     "text": [
      "(4225, 21)\n",
      "(1409, 21)\n"
     ]
    },
    {
     "data": {
      "text/plain": [
       "(1409, 21)"
      ]
     },
     "execution_count": 9,
     "metadata": {},
     "output_type": "execute_result"
    }
   ],
   "source": [
    "print(train.shape)\n",
    "print(validate.shape)\n",
    "test.shape"
   ]
  },
  {
   "cell_type": "code",
   "execution_count": 10,
   "id": "747e73c3-7a89-47c2-8ee1-5c41f0774279",
   "metadata": {
    "tags": []
   },
   "outputs": [
    {
     "data": {
      "text/html": [
       "<div>\n",
       "<style scoped>\n",
       "    .dataframe tbody tr th:only-of-type {\n",
       "        vertical-align: middle;\n",
       "    }\n",
       "\n",
       "    .dataframe tbody tr th {\n",
       "        vertical-align: top;\n",
       "    }\n",
       "\n",
       "    .dataframe thead th {\n",
       "        text-align: right;\n",
       "    }\n",
       "</style>\n",
       "<table border=\"1\" class=\"dataframe\">\n",
       "  <thead>\n",
       "    <tr style=\"text-align: right;\">\n",
       "      <th></th>\n",
       "      <th>customer_id</th>\n",
       "      <th>gender</th>\n",
       "      <th>senior_citizen</th>\n",
       "      <th>partner</th>\n",
       "      <th>dependents</th>\n",
       "      <th>tenure</th>\n",
       "      <th>phone_service</th>\n",
       "      <th>multiple_lines</th>\n",
       "      <th>online_security</th>\n",
       "      <th>online_backup</th>\n",
       "      <th>...</th>\n",
       "      <th>tech_support</th>\n",
       "      <th>streaming_tv</th>\n",
       "      <th>streaming_movies</th>\n",
       "      <th>paperless_billing</th>\n",
       "      <th>monthly_charges</th>\n",
       "      <th>total_charges</th>\n",
       "      <th>churn</th>\n",
       "      <th>contract_type</th>\n",
       "      <th>internet_service_type</th>\n",
       "      <th>payment_type</th>\n",
       "    </tr>\n",
       "  </thead>\n",
       "  <tbody>\n",
       "    <tr>\n",
       "      <th>2865</th>\n",
       "      <td>4083-BFNYK</td>\n",
       "      <td>Female</td>\n",
       "      <td>1</td>\n",
       "      <td>Yes</td>\n",
       "      <td>No</td>\n",
       "      <td>38</td>\n",
       "      <td>Yes</td>\n",
       "      <td>Yes</td>\n",
       "      <td>Yes</td>\n",
       "      <td>Yes</td>\n",
       "      <td>...</td>\n",
       "      <td>No</td>\n",
       "      <td>No</td>\n",
       "      <td>Yes</td>\n",
       "      <td>No</td>\n",
       "      <td>95.00</td>\n",
       "      <td>3591.25</td>\n",
       "      <td>No</td>\n",
       "      <td>One year</td>\n",
       "      <td>Fiber optic</td>\n",
       "      <td>Credit card (automatic)</td>\n",
       "    </tr>\n",
       "    <tr>\n",
       "      <th>4107</th>\n",
       "      <td>5804-LEPIM</td>\n",
       "      <td>Female</td>\n",
       "      <td>1</td>\n",
       "      <td>No</td>\n",
       "      <td>No</td>\n",
       "      <td>2</td>\n",
       "      <td>Yes</td>\n",
       "      <td>No</td>\n",
       "      <td>No</td>\n",
       "      <td>No</td>\n",
       "      <td>...</td>\n",
       "      <td>No</td>\n",
       "      <td>No</td>\n",
       "      <td>No</td>\n",
       "      <td>Yes</td>\n",
       "      <td>70.35</td>\n",
       "      <td>139.05</td>\n",
       "      <td>Yes</td>\n",
       "      <td>Month-to-month</td>\n",
       "      <td>Fiber optic</td>\n",
       "      <td>Electronic check</td>\n",
       "    </tr>\n",
       "    <tr>\n",
       "      <th>3453</th>\n",
       "      <td>4895-TMWIR</td>\n",
       "      <td>Male</td>\n",
       "      <td>1</td>\n",
       "      <td>Yes</td>\n",
       "      <td>No</td>\n",
       "      <td>11</td>\n",
       "      <td>Yes</td>\n",
       "      <td>No</td>\n",
       "      <td>No internet service</td>\n",
       "      <td>No internet service</td>\n",
       "      <td>...</td>\n",
       "      <td>No internet service</td>\n",
       "      <td>No internet service</td>\n",
       "      <td>No internet service</td>\n",
       "      <td>No</td>\n",
       "      <td>19.95</td>\n",
       "      <td>214.75</td>\n",
       "      <td>Yes</td>\n",
       "      <td>Month-to-month</td>\n",
       "      <td>No internet service</td>\n",
       "      <td>Mailed check</td>\n",
       "    </tr>\n",
       "    <tr>\n",
       "      <th>923</th>\n",
       "      <td>1342-JPNKI</td>\n",
       "      <td>Male</td>\n",
       "      <td>0</td>\n",
       "      <td>No</td>\n",
       "      <td>No</td>\n",
       "      <td>10</td>\n",
       "      <td>Yes</td>\n",
       "      <td>Yes</td>\n",
       "      <td>No</td>\n",
       "      <td>No</td>\n",
       "      <td>...</td>\n",
       "      <td>No</td>\n",
       "      <td>Yes</td>\n",
       "      <td>No</td>\n",
       "      <td>Yes</td>\n",
       "      <td>86.05</td>\n",
       "      <td>834.10</td>\n",
       "      <td>Yes</td>\n",
       "      <td>Month-to-month</td>\n",
       "      <td>Fiber optic</td>\n",
       "      <td>Bank transfer (automatic)</td>\n",
       "    </tr>\n",
       "    <tr>\n",
       "      <th>2370</th>\n",
       "      <td>3397-AVTKU</td>\n",
       "      <td>Male</td>\n",
       "      <td>0</td>\n",
       "      <td>No</td>\n",
       "      <td>No</td>\n",
       "      <td>43</td>\n",
       "      <td>Yes</td>\n",
       "      <td>No</td>\n",
       "      <td>No</td>\n",
       "      <td>Yes</td>\n",
       "      <td>...</td>\n",
       "      <td>No</td>\n",
       "      <td>No</td>\n",
       "      <td>Yes</td>\n",
       "      <td>Yes</td>\n",
       "      <td>60.00</td>\n",
       "      <td>2548.55</td>\n",
       "      <td>No</td>\n",
       "      <td>Two year</td>\n",
       "      <td>DSL</td>\n",
       "      <td>Electronic check</td>\n",
       "    </tr>\n",
       "  </tbody>\n",
       "</table>\n",
       "<p>5 rows × 21 columns</p>\n",
       "</div>"
      ],
      "text/plain": [
       "     customer_id  gender  senior_citizen partner dependents  tenure  \\\n",
       "2865  4083-BFNYK  Female               1     Yes         No      38   \n",
       "4107  5804-LEPIM  Female               1      No         No       2   \n",
       "3453  4895-TMWIR    Male               1     Yes         No      11   \n",
       "923   1342-JPNKI    Male               0      No         No      10   \n",
       "2370  3397-AVTKU    Male               0      No         No      43   \n",
       "\n",
       "     phone_service multiple_lines      online_security        online_backup  \\\n",
       "2865           Yes            Yes                  Yes                  Yes   \n",
       "4107           Yes             No                   No                   No   \n",
       "3453           Yes             No  No internet service  No internet service   \n",
       "923            Yes            Yes                   No                   No   \n",
       "2370           Yes             No                   No                  Yes   \n",
       "\n",
       "      ...         tech_support         streaming_tv     streaming_movies  \\\n",
       "2865  ...                   No                   No                  Yes   \n",
       "4107  ...                   No                   No                   No   \n",
       "3453  ...  No internet service  No internet service  No internet service   \n",
       "923   ...                   No                  Yes                   No   \n",
       "2370  ...                   No                   No                  Yes   \n",
       "\n",
       "     paperless_billing monthly_charges  total_charges  churn   contract_type  \\\n",
       "2865                No           95.00        3591.25     No        One year   \n",
       "4107               Yes           70.35         139.05    Yes  Month-to-month   \n",
       "3453                No           19.95         214.75    Yes  Month-to-month   \n",
       "923                Yes           86.05         834.10    Yes  Month-to-month   \n",
       "2370               Yes           60.00        2548.55     No        Two year   \n",
       "\n",
       "     internet_service_type               payment_type  \n",
       "2865           Fiber optic    Credit card (automatic)  \n",
       "4107           Fiber optic           Electronic check  \n",
       "3453   No internet service               Mailed check  \n",
       "923            Fiber optic  Bank transfer (automatic)  \n",
       "2370                   DSL           Electronic check  \n",
       "\n",
       "[5 rows x 21 columns]"
      ]
     },
     "execution_count": 10,
     "metadata": {},
     "output_type": "execute_result"
    }
   ],
   "source": [
    "train.head()"
   ]
  },
  {
   "cell_type": "markdown",
   "id": "immediate-mirror",
   "metadata": {
    "tags": []
   },
   "source": [
    "## Explore\n",
    "\n",
    "* Here you will explore your data then highlight 4 questions that you asked of the data and how those questions influenced your analysis\n",
    "* How often are customers churning\n",
    "* Is churn independent of tech support?\n",
    "* Is churn independent of internet service type?\n",
    "* Is churn independent of phone service?\n",
    "* Are there variations in churn based on monthly charges?\n",
    "* Each question should be supported by a visualization\n",
    "* Each question should be answered in natural language\n",
    "* Two questions must be supported by a statistical test, but you may choose to support more than two\n",
    "* See the following example, and read the comments in the next cell"
   ]
  },
  {
   "cell_type": "markdown",
   "id": "functional-sierra",
   "metadata": {},
   "source": [
    "**The following empty code block** is here to represent the countless questions, visualizations, and statistical tests \n",
    "that did not make your final report. Data scientist often create a myriad of questions, visualizations \n",
    "and statistical tests that do not make it into the final notebook. This is okay and expected. Remember \n",
    "that shotgun approaches to your data such as using pair plots to look at the relationships of each feature \n",
    "are a great way to explore your data, but they have no place in your final report. \n",
    "**Your final report is about showing and supporting your findings, not showing the work you did to get there!**"
   ]
  },
  {
   "cell_type": "code",
   "execution_count": 11,
   "id": "approximate-thong",
   "metadata": {},
   "outputs": [
    {
     "data": {
      "image/png": "[encoded data removed]",
      "text/plain": [
       "<Figure size 640x480 with 1 Axes>"
      ]
     },
     "metadata": {},
     "output_type": "display_data"
    },
    {
     "name": "stdout",
     "output_type": "stream",
     "text": [
      "27.0\n"
     ]
    }
   ],
   "source": [
    "df.churn.value_counts().plot.bar()\n",
    "plt.title('How many of our customers are churning?')\n",
    "plt.xlabel('Churn')\n",
    "plt.ylabel('# Of Customers')\n",
    "plt.show()\n",
    "print(round((df.churn == 'Yes').sum() / len(df),2)*100)"
   ]
  },
  {
   "cell_type": "code",
   "execution_count": 12,
   "id": "111eff74-4447-46fe-b3c2-09a478c9d251",
   "metadata": {
    "tags": []
   },
   "outputs": [
    {
     "data": {
      "text/plain": [
       "churn\n",
       "No     0.73463\n",
       "Yes    0.26537\n",
       "Name: proportion, dtype: float64"
      ]
     },
     "execution_count": 12,
     "metadata": {},
     "output_type": "execute_result"
    }
   ],
   "source": [
    "# Total Churn Rate\n",
    "df['churn'].value_counts(normalize=True)"
   ]
  },
  {
   "cell_type": "code",
   "execution_count": 13,
   "id": "a7abf1d8-8de6-42be-9acc-580fa7240d18",
   "metadata": {
    "tags": []
   },
   "outputs": [
    {
     "data": {
      "text/plain": [
       "churn\n",
       "No     0.583645\n",
       "Yes    0.416355\n",
       "Name: proportion, dtype: float64"
      ]
     },
     "execution_count": 13,
     "metadata": {},
     "output_type": "execute_result"
    }
   ],
   "source": [
    "# Support Churn Rate\n",
    "support = df[df['tech_support'] == 'No']\n",
    "support['churn'].value_counts(normalize=True)"
   ]
  },
  {
   "cell_type": "code",
   "execution_count": 14,
   "id": "44723bbe-9e7d-48e3-ae83-1e8eedc66379",
   "metadata": {
    "tags": []
   },
   "outputs": [
    {
     "data": {
      "text/plain": [
       "churn\n",
       "No     0.581072\n",
       "Yes    0.418928\n",
       "Name: proportion, dtype: float64"
      ]
     },
     "execution_count": 14,
     "metadata": {},
     "output_type": "execute_result"
    }
   ],
   "source": [
    "# Fiber Churn Rate\n",
    "fiber = df[df['internet_service_type'] == 'Fiber optic']\n",
    "fiber['churn'].value_counts(normalize=True)"
   ]
  },
  {
   "cell_type": "markdown",
   "id": "2cd40f9b-2e21-4881-8453-28382c7a8680",
   "metadata": {},
   "source": [
    "### Calculate the average value for tech_support == 'No' and 'Yes'"
   ]
  },
  {
   "cell_type": "code",
   "execution_count": 16,
   "id": "e2175290-1c70-4f62-bf0a-f07bab7dc665",
   "metadata": {
    "tags": []
   },
   "outputs": [
    {
     "data": {
      "text/plain": [
       "87.7427802690583"
      ]
     },
     "execution_count": 16,
     "metadata": {},
     "output_type": "execute_result"
    }
   ],
   "source": [
    "# monthly COST\n",
    "fiber[fiber['tech_support'] == 'No']['monthly_charges'].mean()"
   ]
  },
  {
   "cell_type": "code",
   "execution_count": 17,
   "id": "3bf9744e-c2df-499a-83e6-388a7ad6920c",
   "metadata": {
    "tags": []
   },
   "outputs": [
    {
     "data": {
      "text/plain": [
       "101.17551963048498"
      ]
     },
     "execution_count": 17,
     "metadata": {},
     "output_type": "execute_result"
    }
   ],
   "source": [
    "# bit pricier to have tech support but worth it!\n",
    "fiber[fiber['tech_support'] == 'Yes']['monthly_charges'].mean()"
   ]
  },
  {
   "cell_type": "code",
   "execution_count": 21,
   "id": "c476e1cd-1ec4-4ef4-8e69-3e7c59293eb1",
   "metadata": {
    "tags": []
   },
   "outputs": [
    {
     "data": {
      "text/plain": [
       "0.49372197309417043"
      ]
     },
     "execution_count": 21,
     "metadata": {},
     "output_type": "execute_result"
    }
   ],
   "source": [
    "# churn rate in fiber optic customers WITHOUT tech_support\n",
    "no_tech_support_df = fiber[fiber['tech_support'] == 'No']\n",
    "no_tech_support_churn_rate = no_tech_support_df['churn'].value_counts(normalize=True)['Yes']\n",
    "no_tech_support_churn_rate"
   ]
  },
  {
   "cell_type": "code",
   "execution_count": 22,
   "id": "e9e7210f-7abf-4014-905e-254057a97a6e",
   "metadata": {
    "tags": []
   },
   "outputs": [
    {
     "data": {
      "text/plain": [
       "0.22632794457274827"
      ]
     },
     "execution_count": 22,
     "metadata": {},
     "output_type": "execute_result"
    }
   ],
   "source": [
    "# churn rate in fiber optic customers WITH tech_support\n",
    "tech_support_df = fiber[fiber['tech_support'] == 'Yes']\n",
    "tech_support_churn_rate = tech_support_df['churn'].value_counts(normalize=True)['Yes']\n",
    "tech_support_churn_rate"
   ]
  },
  {
   "cell_type": "markdown",
   "id": "72100886-99d2-400e-a129-bdf6a3e61601",
   "metadata": {},
   "source": [
    "## Potention retention increase if fiber optic customers WITHOUT tech support GET tech support is:"
   ]
  },
  {
   "cell_type": "markdown",
   "id": "998720aa-e243-4220-bc1c-0816a9dad582",
   "metadata": {},
   "source": [
    "# 26.74%"
   ]
  },
  {
   "cell_type": "code",
   "execution_count": 23,
   "id": "4ad99dd8-3beb-4f70-9de0-a33dbfdbc7ae",
   "metadata": {
    "tags": []
   },
   "outputs": [
    {
     "data": {
      "text/plain": [
       "0.26739402852142213"
      ]
     },
     "execution_count": 23,
     "metadata": {},
     "output_type": "execute_result"
    }
   ],
   "source": [
    "no_tech_support_churn_rate - tech_support_churn_rate"
   ]
  },
  {
   "cell_type": "code",
   "execution_count": 26,
   "id": "6b0a5ec7-7291-4ee5-9f42-4a5f8b0c9a7e",
   "metadata": {
    "tags": []
   },
   "outputs": [
    {
     "data": {
      "image/png": "[encoded data removed]",
      "text/plain": [
       "<Figure size 640x480 with 1 Axes>"
      ]
     },
     "metadata": {},
     "output_type": "display_data"
    }
   ],
   "source": [
    "import matplotlib.pyplot as plt\n",
    "\n",
    "# Calculate the total number of customers in each dataframe\n",
    "total_telco = len(df)\n",
    "total_fiber = len(fiber)\n",
    "total_support = len(support)\n",
    "\n",
    "# Calculate the number of customers who churned in each dataframe\n",
    "telco_churned = df[df['churn'] == 'Yes']\n",
    "fiber_churned = fiber[fiber['churn'] == 'Yes']\n",
    "support_churned = support[support['churn'] == 'Yes']\n",
    "\n",
    "# Calculate the churn rate for each dataframe\n",
    "telco_churn_rate = len(telco_churned) / total_telco\n",
    "fiber_churn_rate = len(fiber_churned) / total_fiber\n",
    "support_churn_rate = len(support_churned) / total_support\n",
    "\n",
    "# Create a grouped bar plot of the churn rates\n",
    "bar_width = 0.6  # Increase the width of the bars\n",
    "plt.bar([0, 1, 2], [telco_churn_rate, fiber_churn_rate, support_churn_rate], width=bar_width, label='Churn Rate')\n",
    "plt.xticks([0, 1, 2], ['Overall', 'Fiber Optic', 'Without Tech Support'])\n",
    "plt.title('Churn Rates', fontsize=18)\n",
    "plt.ylabel('Churn Rate')\n",
    "plt.ylim(0, 0.5)\n",
    "\n",
    "# Add text to the first column of the plot\n",
    "plt.text(0, 0.23, f'{telco_churn_rate:.0%}', ha='center', va='center', fontsize=20, color='black')\n",
    "\n",
    "# Add text to the second column of the plot\n",
    "plt.text(1, 0.38, f'{fiber_churn_rate:.1%}', ha='center', va='center', fontsize=20, color='black')\n",
    "\n",
    "# Add text to the third column of the plot\n",
    "plt.text(2, 0.38, f'{support_churn_rate:.1%}', ha='center', va='center', fontsize=20, color='black')\n",
    "\n",
    "# Show the plot\n",
    "plt.show()"
   ]
  },
  {
   "cell_type": "code",
   "execution_count": 28,
   "id": "5dcf10cd-c917-49c6-b78f-673267a89a03",
   "metadata": {
    "tags": []
   },
   "outputs": [
    {
     "data": {
      "image/png": "[encoded data removed]",
      "text/plain": [
       "<Figure size 640x480 with 1 Axes>"
      ]
     },
     "metadata": {},
     "output_type": "display_data"
    }
   ],
   "source": [
    "import seaborn as sns\n",
    "import matplotlib.pyplot as plt\n",
    "\n",
    "# Create a bar plot of the churn rates\n",
    "sns.barplot(x=['Without Tech Support', 'With Tech Support'], y=[no_tech_support_churn_rate, tech_support_churn_rate])\n",
    "plt.title('Fiber Customers Only', fontsize=18)\n",
    "plt.ylabel('Churn Rate')\n",
    "plt.ylim(0, 0.6)\n",
    "\n",
    "# Calculate the churn rate in people without tech_support\n",
    "no_tech_support_df = fiber[fiber['tech_support'] == 'No']\n",
    "no_tech_support_churn_rate = no_tech_support_df['churn'].value_counts(normalize=True)['Yes']\n",
    "\n",
    "# Calculate the churn rate in people with tech_support\n",
    "tech_support_df = fiber[fiber['tech_support'] == 'Yes']\n",
    "tech_support_churn_rate = tech_support_df['churn'].value_counts(normalize=True)['Yes']\n",
    "\n",
    "# Add text to the first column of the plot\n",
    "plt.text(0, 0.45, f'Without Support\\nChurn Rate:', ha='center', va='center', fontsize=12, color='black')\n",
    "plt.text(0, 0.39, f'{no_tech_support_churn_rate:.0%}', ha='center', va='center', fontsize=20, color='black')\n",
    "\n",
    "# Add text to the second column of the plot\n",
    "plt.text(1, 0.18, f'With Support\\nChurn Rate:', ha='center', va='center', fontsize=12, color='black')\n",
    "plt.text(1, 0.12, f'{tech_support_churn_rate:.0%}', ha='center', va='center', fontsize=20, color='black')\n",
    "\n",
    "# Show the plot\n",
    "plt.show()"
   ]
  },
  {
   "cell_type": "code",
   "execution_count": 35,
   "id": "3fcea942-e48d-4b93-8f39-0a59e7b1778d",
   "metadata": {
    "tags": []
   },
   "outputs": [
    {
     "data": {
      "image/png": "[encoded data removed]",
      "text/plain": [
       "<Figure size 640x480 with 1 Axes>"
      ]
     },
     "metadata": {},
     "output_type": "display_data"
    }
   ],
   "source": [
    "import seaborn as sns\n",
    "from scipy import stats\n",
    "\n",
    "# # Calculate the average monthly charges\n",
    "# average = fiber['monthly_charges'].mean()\n",
    "\n",
    "# Create a boxen plot with the tech_support variable on the x-axis and the monthly cost on the y-axis\n",
    "sns.boxplot(data=fiber, x='tech_support', y='monthly_charges')\n",
    "\n",
    "# Add a title to the plot with the name of the quantitative variable\n",
    "plt.title('Monthly Charges for Fiber Optic Customers')\n",
    "\n",
    "# # Add a horizontal line to the plot at the average value of the quantitative variable\n",
    "# plt.axhline(average, ls=\"--\")\n",
    "\n",
    "# Change the x-axis labels\n",
    "plt.xticks([0, 1], ['Without Tech Support', 'With Tech Support'])\n",
    "plt.xlabel('')\n",
    "\n",
    "# Change the y-axis label\n",
    "plt.ylabel('Monthly Charges ($)')\n",
    "\n",
    "# Average cost\n",
    "avg_no_tech_support = fiber[fiber['tech_support'] == 'No']['monthly_charges'].mean()\n",
    "avg_yes_tech_support = fiber[fiber['tech_support'] == 'Yes']['monthly_charges'].mean()\n",
    "\n",
    "# Add text to the first column of the plot\n",
    "plt.text(0, 88.5, f'Average Cost:\\n', ha='center', va='center', fontsize=12, color='black')\n",
    "plt.text(0, 85, f'${avg_no_tech_support:.0f}', ha='center', va='center', fontsize=20, color='black')\n",
    "\n",
    "# Add text to the second column of the plot\n",
    "plt.text(1, 104, f'Average Cost:\\n', ha='center', va='center', fontsize=12, color='black')\n",
    "plt.text(1, 100.5, f'${avg_yes_tech_support:.0f}', ha='center', va='center', fontsize=20, color='black')\n",
    "\n",
    "# Show the plot\n",
    "plt.show()"
   ]
  },
  {
   "cell_type": "markdown",
   "id": "1cd03b92-7b3b-4335-9dd8-0ba3b3ff91c4",
   "metadata": {},
   "source": [
    "### **Statistical Hypothesis Testing**"
   ]
  },
  {
   "cell_type": "code",
   "execution_count": 12,
   "id": "31eb447b-81d4-42da-95b1-6a33b441105c",
   "metadata": {
    "tags": []
   },
   "outputs": [
    {
     "name": "stdout",
     "output_type": "stream",
     "text": [
      "tech_support & churn\n",
      "\n",
      "Chi2: 482.09154879788\n",
      "P-value: 6.05233167722674e-101\n",
      "Degrees of Freedom: 6\n"
     ]
    },
    {
     "data": {
      "image/png": "[encoded data removed]",
      "text/plain": [
       "<Figure size 573.875x500 with 1 Axes>"
      ]
     },
     "metadata": {},
     "output_type": "display_data"
    }
   ],
   "source": [
    "# Use explore_categorical using train data to run Chi2 and plot\n",
    "e.explore_categorical(train, 'churn', 'tech_support')"
   ]
  },
  {
   "cell_type": "markdown",
   "id": "46a25fd7-ed60-4e8f-8f5d-a51736c5178c",
   "metadata": {
    "tags": []
   },
   "source": [
    "### **1. <i>Is `churn` independent of `tech_support`?</i>**\n",
    "<i> discrete (`churn`) vs Discrete (`tech_support`) = $Chi^2$ </i>\n",
    "\n",
    "* $H_0$: `churn` is independent from `tech_support`\n",
    "\n",
    "* $H_a$: `churn` is **NOT** independent from `tech_support`\n",
    "\n",
    "* α = 0.05\n",
    "\n",
    "    - $Chi^2$ = 482.09154879788\n",
    "    - $p$ = 6.05233167722674e-101\n",
    "    - $p$  <  α\n",
    "\n",
    "### <b> <u> We reject the null hypothesis. </u> </b>"
   ]
  },
  {
   "cell_type": "code",
   "execution_count": 13,
   "id": "db5a0308-d644-440e-b31e-c6276c73a699",
   "metadata": {
    "tags": []
   },
   "outputs": [
    {
     "name": "stdout",
     "output_type": "stream",
     "text": [
      "internet_service_type & churn\n",
      "\n",
      "Chi2: 417.88813854093104\n",
      "P-value: 3.9804371258943206e-87\n",
      "Degrees of Freedom: 6\n"
     ]
    },
    {
     "data": {
      "image/png": "[encoded data removed]",
      "text/plain": [
       "<Figure size 573.875x500 with 1 Axes>"
      ]
     },
     "metadata": {},
     "output_type": "display_data"
    }
   ],
   "source": [
    "# Use explore_categorical using train data to run Chi2 and plot\n",
    "e.explore_categorical(train, 'churn', 'internet_service_type')"
   ]
  },
  {
   "cell_type": "markdown",
   "id": "75e948ce-cf61-4b6e-bfed-a4e145b4d982",
   "metadata": {},
   "source": [
    "### **2. <i>Is there a difference in `churn` based on `internet_service_type`?</i>**\n",
    "<i> Discrete (`churn`) vs Discrete (`internet_service_type`) = $Chi^2$ </i>\n",
    "\n",
    "* $H_0$: `churn` is independent from `internet_service_type`\n",
    "\n",
    "* $H_a$: `churn` is **NOT** independent from `internet_service_type`\n",
    "\n",
    "* α = 0.05\n",
    "\n",
    "    - $Chi^2$ = 417.88813854093104\n",
    "    - $p$ = 3.9804371258943206e-87\n",
    "    - $p$  <  α\n",
    "\n",
    "### <b> <u> We reject the null hypothesis. </u> </b>"
   ]
  },
  {
   "cell_type": "code",
   "execution_count": 14,
   "id": "ded7313f-6437-41b5-82a3-d8a5096da16d",
   "metadata": {
    "tags": []
   },
   "outputs": [
    {
     "name": "stdout",
     "output_type": "stream",
     "text": [
      "phone_service & churn\n",
      "\n",
      "Chi2: 0.4404388389725981\n",
      "P-value: 0.9790341790305054\n",
      "Degrees of Freedom: 4\n"
     ]
    },
    {
     "data": {
      "image/png": "[encoded data removed]",
      "text/plain": [
       "<Figure size 573.875x500 with 1 Axes>"
      ]
     },
     "metadata": {},
     "output_type": "display_data"
    }
   ],
   "source": [
    "# Use explore_categorical using train data to run Chi2 and plot\n",
    "e.explore_categorical(train, 'churn', 'phone_service')"
   ]
  },
  {
   "cell_type": "markdown",
   "id": "8328b71e-2224-46fe-8a39-fdeb5349f847",
   "metadata": {},
   "source": [
    "### **3. <i>Is `churn` independent of `phone_service`?</i>**\n",
    "<i> discrete (`churn`) vs Discrete (`phone_service`) = $Chi^2$ </i>\n",
    "\n",
    "* $H_0$: `churn` is independent from `phone_service`\n",
    "\n",
    "* $H_a$: `churn` is **NOT** independent from `phone_service`\n",
    "\n",
    "* α = 0.05\n",
    "\n",
    "    - $Chi^2$ = 0.4404388389725981\n",
    "    - $p$ = 0.9790341790305054\n",
    "    - $p$  >  α\n",
    "\n",
    "### <b> <u> We fail to reject the null hypothesis. </u> </b>"
   ]
  },
  {
   "cell_type": "code",
   "execution_count": 15,
   "id": "15391e17-e443-4f1b-b780-8a2d7a0c77b3",
   "metadata": {
    "tags": []
   },
   "outputs": [
    {
     "data": {
      "image/png": "[encoded data removed]",
      "text/plain": [
       "<Figure size 640x480 with 1 Axes>"
      ]
     },
     "metadata": {},
     "output_type": "display_data"
    }
   ],
   "source": [
    "#Monthly charges and churn\n",
    "sns.boxplot(data=train, y='monthly_charges', x='churn')\n",
    "plt.title('Do customers that churn pay more per month?')\n",
    "plt.show()"
   ]
  },
  {
   "cell_type": "markdown",
   "id": "c595a7f0-c670-40df-b8c6-ee63d03201b3",
   "metadata": {},
   "source": [
    "It definitely seems like the median monthly charge is higher for customers that have churned compared to those that haven't."
   ]
  },
  {
   "cell_type": "code",
   "execution_count": 16,
   "id": "b1d365e0-bcb9-4e4a-8be4-251e177c322d",
   "metadata": {
    "tags": []
   },
   "outputs": [
    {
     "name": "stdout",
     "output_type": "stream",
     "text": [
      "We reject the null hypothesis\n",
      "5.279235952338065e-34\n",
      "12.264665996155202\n"
     ]
    }
   ],
   "source": [
    "churn_sample = train[train.churn == 'Yes'].monthly_charges\n",
    "no_churn_sample = train[train.churn == 'No'].monthly_charges\n",
    "\n",
    "t, p_val = stats.ttest_ind(churn_sample, no_churn_sample)\n",
    "\n",
    "if p_val < .05:\n",
    "    print(\"We reject the null hypothesis\")\n",
    "else:\n",
    "    print(\"We fail to reject the null hypothesis\")  \n",
    "print(p_val)\n",
    "print(t)"
   ]
  },
  {
   "cell_type": "markdown",
   "id": "17965326-78b9-4717-9684-ea3e05340da0",
   "metadata": {},
   "source": [
    "### **4. Is `churn` independent from `monthly_charges`?**\n",
    "Discrete (`churn`) vs Continuous (`monthly_charges`) = $Mann$-$Whitney$ $U$\n",
    "\n",
    "* $H_0$: There is **NO** difference in `churn` based on `monthly_charges`\n",
    "\n",
    "* $H_a$: There is a difference in `churn` based on `monthly_charges`\n",
    "\n",
    "* α = 0.05\n",
    "\n",
    "    - T-test statistic = 12.264665996155202\n",
    "    - $p$ = 5.279235952338065e-34\n",
    "    - $p$  <  α\n",
    "\n",
    "### <b> <u> We reject the null hypothesis. </u> </b>"
   ]
  },
  {
   "cell_type": "markdown",
   "id": "78af1aec-b5b1-4952-9967-f9d864dcbe34",
   "metadata": {
    "tags": []
   },
   "source": [
    "#### **After visual exploration of the bivariate and multivariate data, we determined some drivers of `churn` are:**\n",
    "\n",
    "- `tech_support` *- those without support, tend to churn*\n",
    "\n",
    "- `fiber_optic_internet` *- customers with fiber optic internet appear to churn more*\n",
    "\n",
    "- `monthly_charges` *- higher monthly among members that churn*\n",
    "\n",
    "#### **Not a driver of `churn`:**\n",
    "- `phone_service` - customers subscribed to phone service churn the same as those not subscribed"
   ]
  },
  {
   "cell_type": "markdown",
   "id": "aefa973c-82fa-4c69-b8b7-85907b7ccaef",
   "metadata": {},
   "source": [
    "# Modeling"
   ]
  },
  {
   "cell_type": "markdown",
   "id": "4a1d7ae5-6017-4692-9145-6bcd7916e8af",
   "metadata": {
    "tags": []
   },
   "source": [
    "### Encoding"
   ]
  },
  {
   "cell_type": "markdown",
   "id": "ba093784-1bf1-4369-975c-ef9c9ada216e",
   "metadata": {},
   "source": [
    "### We'll move onto modeling. Accuracy is going to be the evaluation metric. Our baseline will be 73%, assuming no churn."
   ]
  },
  {
   "cell_type": "code",
   "execution_count": 17,
   "id": "d8ecd745-b157-4822-b3e1-6adbcf4acde7",
   "metadata": {
    "tags": []
   },
   "outputs": [
    {
     "data": {
      "text/html": [
       "<div>\n",
       "<style scoped>\n",
       "    .dataframe tbody tr th:only-of-type {\n",
       "        vertical-align: middle;\n",
       "    }\n",
       "\n",
       "    .dataframe tbody tr th {\n",
       "        vertical-align: top;\n",
       "    }\n",
       "\n",
       "    .dataframe thead th {\n",
       "        text-align: right;\n",
       "    }\n",
       "</style>\n",
       "<table border=\"1\" class=\"dataframe\">\n",
       "  <thead>\n",
       "    <tr style=\"text-align: right;\">\n",
       "      <th></th>\n",
       "      <th>customer_id</th>\n",
       "      <th>gender</th>\n",
       "      <th>senior_citizen</th>\n",
       "      <th>partner</th>\n",
       "      <th>dependents</th>\n",
       "      <th>tenure</th>\n",
       "      <th>phone_service</th>\n",
       "      <th>multiple_lines</th>\n",
       "      <th>online_security</th>\n",
       "      <th>online_backup</th>\n",
       "      <th>...</th>\n",
       "      <th>tech_support</th>\n",
       "      <th>streaming_tv</th>\n",
       "      <th>streaming_movies</th>\n",
       "      <th>paperless_billing</th>\n",
       "      <th>monthly_charges</th>\n",
       "      <th>total_charges</th>\n",
       "      <th>churn</th>\n",
       "      <th>contract_type</th>\n",
       "      <th>internet_service_type</th>\n",
       "      <th>payment_type</th>\n",
       "    </tr>\n",
       "  </thead>\n",
       "  <tbody>\n",
       "    <tr>\n",
       "      <th>2865</th>\n",
       "      <td>4083-BFNYK</td>\n",
       "      <td>Female</td>\n",
       "      <td>1</td>\n",
       "      <td>Yes</td>\n",
       "      <td>No</td>\n",
       "      <td>38</td>\n",
       "      <td>Yes</td>\n",
       "      <td>Yes</td>\n",
       "      <td>Yes</td>\n",
       "      <td>Yes</td>\n",
       "      <td>...</td>\n",
       "      <td>No</td>\n",
       "      <td>No</td>\n",
       "      <td>Yes</td>\n",
       "      <td>No</td>\n",
       "      <td>95.00</td>\n",
       "      <td>3591.25</td>\n",
       "      <td>No</td>\n",
       "      <td>One year</td>\n",
       "      <td>Fiber optic</td>\n",
       "      <td>Credit card (automatic)</td>\n",
       "    </tr>\n",
       "    <tr>\n",
       "      <th>4107</th>\n",
       "      <td>5804-LEPIM</td>\n",
       "      <td>Female</td>\n",
       "      <td>1</td>\n",
       "      <td>No</td>\n",
       "      <td>No</td>\n",
       "      <td>2</td>\n",
       "      <td>Yes</td>\n",
       "      <td>No</td>\n",
       "      <td>No</td>\n",
       "      <td>No</td>\n",
       "      <td>...</td>\n",
       "      <td>No</td>\n",
       "      <td>No</td>\n",
       "      <td>No</td>\n",
       "      <td>Yes</td>\n",
       "      <td>70.35</td>\n",
       "      <td>139.05</td>\n",
       "      <td>Yes</td>\n",
       "      <td>Month-to-month</td>\n",
       "      <td>Fiber optic</td>\n",
       "      <td>Electronic check</td>\n",
       "    </tr>\n",
       "    <tr>\n",
       "      <th>3453</th>\n",
       "      <td>4895-TMWIR</td>\n",
       "      <td>Male</td>\n",
       "      <td>1</td>\n",
       "      <td>Yes</td>\n",
       "      <td>No</td>\n",
       "      <td>11</td>\n",
       "      <td>Yes</td>\n",
       "      <td>No</td>\n",
       "      <td>No internet service</td>\n",
       "      <td>No internet service</td>\n",
       "      <td>...</td>\n",
       "      <td>No internet service</td>\n",
       "      <td>No internet service</td>\n",
       "      <td>No internet service</td>\n",
       "      <td>No</td>\n",
       "      <td>19.95</td>\n",
       "      <td>214.75</td>\n",
       "      <td>Yes</td>\n",
       "      <td>Month-to-month</td>\n",
       "      <td>No internet service</td>\n",
       "      <td>Mailed check</td>\n",
       "    </tr>\n",
       "    <tr>\n",
       "      <th>923</th>\n",
       "      <td>1342-JPNKI</td>\n",
       "      <td>Male</td>\n",
       "      <td>0</td>\n",
       "      <td>No</td>\n",
       "      <td>No</td>\n",
       "      <td>10</td>\n",
       "      <td>Yes</td>\n",
       "      <td>Yes</td>\n",
       "      <td>No</td>\n",
       "      <td>No</td>\n",
       "      <td>...</td>\n",
       "      <td>No</td>\n",
       "      <td>Yes</td>\n",
       "      <td>No</td>\n",
       "      <td>Yes</td>\n",
       "      <td>86.05</td>\n",
       "      <td>834.1</td>\n",
       "      <td>Yes</td>\n",
       "      <td>Month-to-month</td>\n",
       "      <td>Fiber optic</td>\n",
       "      <td>Bank transfer (automatic)</td>\n",
       "    </tr>\n",
       "    <tr>\n",
       "      <th>2370</th>\n",
       "      <td>3397-AVTKU</td>\n",
       "      <td>Male</td>\n",
       "      <td>0</td>\n",
       "      <td>No</td>\n",
       "      <td>No</td>\n",
       "      <td>43</td>\n",
       "      <td>Yes</td>\n",
       "      <td>No</td>\n",
       "      <td>No</td>\n",
       "      <td>Yes</td>\n",
       "      <td>...</td>\n",
       "      <td>No</td>\n",
       "      <td>No</td>\n",
       "      <td>Yes</td>\n",
       "      <td>Yes</td>\n",
       "      <td>60.00</td>\n",
       "      <td>2548.55</td>\n",
       "      <td>No</td>\n",
       "      <td>Two year</td>\n",
       "      <td>DSL</td>\n",
       "      <td>Electronic check</td>\n",
       "    </tr>\n",
       "  </tbody>\n",
       "</table>\n",
       "<p>5 rows × 21 columns</p>\n",
       "</div>"
      ],
      "text/plain": [
       "     customer_id  gender  senior_citizen partner dependents  tenure  \\\n",
       "2865  4083-BFNYK  Female               1     Yes         No      38   \n",
       "4107  5804-LEPIM  Female               1      No         No       2   \n",
       "3453  4895-TMWIR    Male               1     Yes         No      11   \n",
       "923   1342-JPNKI    Male               0      No         No      10   \n",
       "2370  3397-AVTKU    Male               0      No         No      43   \n",
       "\n",
       "     phone_service multiple_lines      online_security        online_backup  \\\n",
       "2865           Yes            Yes                  Yes                  Yes   \n",
       "4107           Yes             No                   No                   No   \n",
       "3453           Yes             No  No internet service  No internet service   \n",
       "923            Yes            Yes                   No                   No   \n",
       "2370           Yes             No                   No                  Yes   \n",
       "\n",
       "      ...         tech_support         streaming_tv     streaming_movies  \\\n",
       "2865  ...                   No                   No                  Yes   \n",
       "4107  ...                   No                   No                   No   \n",
       "3453  ...  No internet service  No internet service  No internet service   \n",
       "923   ...                   No                  Yes                   No   \n",
       "2370  ...                   No                   No                  Yes   \n",
       "\n",
       "     paperless_billing monthly_charges  total_charges churn   contract_type  \\\n",
       "2865                No           95.00        3591.25    No        One year   \n",
       "4107               Yes           70.35         139.05   Yes  Month-to-month   \n",
       "3453                No           19.95         214.75   Yes  Month-to-month   \n",
       "923                Yes           86.05          834.1   Yes  Month-to-month   \n",
       "2370               Yes           60.00        2548.55    No        Two year   \n",
       "\n",
       "     internet_service_type               payment_type  \n",
       "2865           Fiber optic    Credit card (automatic)  \n",
       "4107           Fiber optic           Electronic check  \n",
       "3453   No internet service               Mailed check  \n",
       "923            Fiber optic  Bank transfer (automatic)  \n",
       "2370                   DSL           Electronic check  \n",
       "\n",
       "[5 rows x 21 columns]"
      ]
     },
     "execution_count": 17,
     "metadata": {},
     "output_type": "execute_result"
    }
   ],
   "source": [
    "train.head()"
   ]
  },
  {
   "cell_type": "code",
   "execution_count": 23,
   "id": "78b88eb4-cb57-4e92-9e3c-60c28303a979",
   "metadata": {
    "tags": []
   },
   "outputs": [
    {
     "ename": "NameError",
     "evalue": "name 'encoded_train' is not defined",
     "output_type": "error",
     "traceback": [
      "\u001b[0;31m---------------------------------------------------------------------------\u001b[0m",
      "\u001b[0;31mNameError\u001b[0m                                 Traceback (most recent call last)",
      "Cell \u001b[0;32mIn[23], line 2\u001b[0m\n\u001b[1;32m      1\u001b[0m \u001b[38;5;66;03m# Set baseline accuracy\u001b[39;00m\n\u001b[0;32m----> 2\u001b[0m encoded_train\u001b[38;5;241m.\u001b[39mchurn_Yes\u001b[38;5;241m.\u001b[39mvalue_counts(normalize\u001b[38;5;241m=\u001b[39m\u001b[38;5;28;01mTrue\u001b[39;00m)\n",
      "\u001b[0;31mNameError\u001b[0m: name 'encoded_train' is not defined"
     ]
    }
   ],
   "source": [
    "# Set baseline accuracy\n",
    "encoded_train.churn_Yes.value_counts(normalize=True)"
   ]
  },
  {
   "cell_type": "markdown",
   "id": "7f3a207e-d64f-44ac-9837-a5dcfa5ec141",
   "metadata": {},
   "source": [
    "### Decision Tree"
   ]
  },
  {
   "cell_type": "code",
   "execution_count": 19,
   "id": "40d7388e-1725-4466-8f63-dcaab6d2d2ca",
   "metadata": {
    "tags": []
   },
   "outputs": [
    {
     "ename": "AttributeError",
     "evalue": "'DataFrame' object has no attribute 'total_charges'",
     "output_type": "error",
     "traceback": [
      "\u001b[0;31m---------------------------------------------------------------------------\u001b[0m",
      "\u001b[0;31mAttributeError\u001b[0m                            Traceback (most recent call last)",
      "\u001b[0;32m/var/folders/dw/b7g84lz929n6kfcfp39hrt0m0000gn/T/ipykernel_4630/1362770560.py\u001b[0m in \u001b[0;36m?\u001b[0;34m()\u001b[0m\n\u001b[0;32m----> 1\u001b[0;31m \u001b[0mtrain\u001b[0m\u001b[0;34m[\u001b[0m\u001b[0;34m'total_charges'\u001b[0m\u001b[0;34m]\u001b[0m \u001b[0;34m=\u001b[0m \u001b[0;34m(\u001b[0m\u001b[0mtrain\u001b[0m\u001b[0;34m.\u001b[0m\u001b[0mtotal_charges\u001b[0m \u001b[0;34m+\u001b[0m \u001b[0;34m'0'\u001b[0m\u001b[0;34m)\u001b[0m\u001b[0;34m.\u001b[0m\u001b[0mastype\u001b[0m\u001b[0;34m(\u001b[0m\u001b[0mfloat\u001b[0m\u001b[0;34m)\u001b[0m\u001b[0;34m\u001b[0m\u001b[0;34m\u001b[0m\u001b[0m\n\u001b[0m",
      "\u001b[0;32m/opt/homebrew/anaconda3/lib/python3.11/site-packages/pandas/core/generic.py\u001b[0m in \u001b[0;36m?\u001b[0;34m(self, name)\u001b[0m\n\u001b[1;32m   5985\u001b[0m             \u001b[0;32mand\u001b[0m \u001b[0mname\u001b[0m \u001b[0;32mnot\u001b[0m \u001b[0;32min\u001b[0m \u001b[0mself\u001b[0m\u001b[0;34m.\u001b[0m\u001b[0m_accessors\u001b[0m\u001b[0;34m\u001b[0m\u001b[0;34m\u001b[0m\u001b[0m\n\u001b[1;32m   5986\u001b[0m             \u001b[0;32mand\u001b[0m \u001b[0mself\u001b[0m\u001b[0;34m.\u001b[0m\u001b[0m_info_axis\u001b[0m\u001b[0;34m.\u001b[0m\u001b[0m_can_hold_identifiers_and_holds_name\u001b[0m\u001b[0;34m(\u001b[0m\u001b[0mname\u001b[0m\u001b[0;34m)\u001b[0m\u001b[0;34m\u001b[0m\u001b[0;34m\u001b[0m\u001b[0m\n\u001b[1;32m   5987\u001b[0m         ):\n\u001b[1;32m   5988\u001b[0m             \u001b[0;32mreturn\u001b[0m \u001b[0mself\u001b[0m\u001b[0;34m[\u001b[0m\u001b[0mname\u001b[0m\u001b[0;34m]\u001b[0m\u001b[0;34m\u001b[0m\u001b[0;34m\u001b[0m\u001b[0m\n\u001b[0;32m-> 5989\u001b[0;31m         \u001b[0;32mreturn\u001b[0m \u001b[0mobject\u001b[0m\u001b[0;34m.\u001b[0m\u001b[0m__getattribute__\u001b[0m\u001b[0;34m(\u001b[0m\u001b[0mself\u001b[0m\u001b[0;34m,\u001b[0m \u001b[0mname\u001b[0m\u001b[0;34m)\u001b[0m\u001b[0;34m\u001b[0m\u001b[0;34m\u001b[0m\u001b[0m\n\u001b[0m",
      "\u001b[0;31mAttributeError\u001b[0m: 'DataFrame' object has no attribute 'total_charges'"
     ]
    }
   ],
   "source": [
    "train['total_charges'] = (train.total_charges + '0').astype(float)"
   ]
  },
  {
   "cell_type": "code",
   "execution_count": 18,
   "id": "6244cdf7-e131-4d0e-a31b-f0f21dbbe550",
   "metadata": {
    "tags": []
   },
   "outputs": [],
   "source": [
    "train, validate, test = p.preprocess_telco(train, validate, test)"
   ]
  },
  {
   "cell_type": "code",
   "execution_count": 27,
   "id": "eb77bdc8-6da6-4be6-bfcb-e3039623db5f",
   "metadata": {
    "tags": []
   },
   "outputs": [
    {
     "data": {
      "text/plain": [
       "customer_id                                   object\n",
       "senior_citizen                                 int64\n",
       "tenure                                         int64\n",
       "monthly_charges                              float64\n",
       "total_charges                                float64\n",
       "gender_Male                                    int64\n",
       "partner_Yes                                    int64\n",
       "dependents_Yes                                 int64\n",
       "multiple_lines_No phone service                int64\n",
       "multiple_lines_Yes                             int64\n",
       "online_security_No internet service            int64\n",
       "online_security_Yes                            int64\n",
       "online_backup_No internet service              int64\n",
       "online_backup_Yes                              int64\n",
       "device_protection_No internet service          int64\n",
       "device_protection_Yes                          int64\n",
       "tech_support_No internet service               int64\n",
       "tech_support_Yes                               int64\n",
       "streaming_tv_No internet service               int64\n",
       "streaming_tv_Yes                               int64\n",
       "streaming_movies_No internet service           int64\n",
       "streaming_movies_Yes                           int64\n",
       "paperless_billing_Yes                          int64\n",
       "churn_Yes                                      int64\n",
       "contract_type_One year                         int64\n",
       "contract_type_Two year                         int64\n",
       "internet_service_type_Fiber optic              int64\n",
       "internet_service_type_No internet service      int64\n",
       "payment_type_Credit card (automatic)           int64\n",
       "payment_type_Electronic check                  int64\n",
       "payment_type_Mailed check                      int64\n",
       "dtype: object"
      ]
     },
     "execution_count": 27,
     "metadata": {},
     "output_type": "execute_result"
    }
   ],
   "source": [
    "train.dtypes"
   ]
  },
  {
   "cell_type": "code",
   "execution_count": 29,
   "id": "a727ba94-66bb-4f53-9691-ac3cea93842f",
   "metadata": {
    "tags": []
   },
   "outputs": [
    {
     "data": {
      "text/html": [
       "<div>\n",
       "<style scoped>\n",
       "    .dataframe tbody tr th:only-of-type {\n",
       "        vertical-align: middle;\n",
       "    }\n",
       "\n",
       "    .dataframe tbody tr th {\n",
       "        vertical-align: top;\n",
       "    }\n",
       "\n",
       "    .dataframe thead th {\n",
       "        text-align: right;\n",
       "    }\n",
       "</style>\n",
       "<table border=\"1\" class=\"dataframe\">\n",
       "  <thead>\n",
       "    <tr style=\"text-align: right;\">\n",
       "      <th></th>\n",
       "      <th>customer_id</th>\n",
       "      <th>senior_citizen</th>\n",
       "      <th>tenure</th>\n",
       "      <th>monthly_charges</th>\n",
       "      <th>total_charges</th>\n",
       "      <th>gender_Male</th>\n",
       "      <th>partner_Yes</th>\n",
       "      <th>dependents_Yes</th>\n",
       "      <th>multiple_lines_No phone service</th>\n",
       "      <th>multiple_lines_Yes</th>\n",
       "      <th>...</th>\n",
       "      <th>streaming_movies_Yes</th>\n",
       "      <th>paperless_billing_Yes</th>\n",
       "      <th>churn_Yes</th>\n",
       "      <th>contract_type_One year</th>\n",
       "      <th>contract_type_Two year</th>\n",
       "      <th>internet_service_type_Fiber optic</th>\n",
       "      <th>internet_service_type_No internet service</th>\n",
       "      <th>payment_type_Credit card (automatic)</th>\n",
       "      <th>payment_type_Electronic check</th>\n",
       "      <th>payment_type_Mailed check</th>\n",
       "    </tr>\n",
       "  </thead>\n",
       "  <tbody>\n",
       "    <tr>\n",
       "      <th>2865</th>\n",
       "      <td>4083-BFNYK</td>\n",
       "      <td>1</td>\n",
       "      <td>38</td>\n",
       "      <td>95.00</td>\n",
       "      <td>3591.25</td>\n",
       "      <td>0</td>\n",
       "      <td>1</td>\n",
       "      <td>0</td>\n",
       "      <td>0</td>\n",
       "      <td>1</td>\n",
       "      <td>...</td>\n",
       "      <td>1</td>\n",
       "      <td>0</td>\n",
       "      <td>0</td>\n",
       "      <td>1</td>\n",
       "      <td>0</td>\n",
       "      <td>1</td>\n",
       "      <td>0</td>\n",
       "      <td>1</td>\n",
       "      <td>0</td>\n",
       "      <td>0</td>\n",
       "    </tr>\n",
       "    <tr>\n",
       "      <th>4107</th>\n",
       "      <td>5804-LEPIM</td>\n",
       "      <td>1</td>\n",
       "      <td>2</td>\n",
       "      <td>70.35</td>\n",
       "      <td>139.05</td>\n",
       "      <td>0</td>\n",
       "      <td>0</td>\n",
       "      <td>0</td>\n",
       "      <td>0</td>\n",
       "      <td>0</td>\n",
       "      <td>...</td>\n",
       "      <td>0</td>\n",
       "      <td>1</td>\n",
       "      <td>1</td>\n",
       "      <td>0</td>\n",
       "      <td>0</td>\n",
       "      <td>1</td>\n",
       "      <td>0</td>\n",
       "      <td>0</td>\n",
       "      <td>1</td>\n",
       "      <td>0</td>\n",
       "    </tr>\n",
       "    <tr>\n",
       "      <th>3453</th>\n",
       "      <td>4895-TMWIR</td>\n",
       "      <td>1</td>\n",
       "      <td>11</td>\n",
       "      <td>19.95</td>\n",
       "      <td>214.75</td>\n",
       "      <td>1</td>\n",
       "      <td>1</td>\n",
       "      <td>0</td>\n",
       "      <td>0</td>\n",
       "      <td>0</td>\n",
       "      <td>...</td>\n",
       "      <td>0</td>\n",
       "      <td>0</td>\n",
       "      <td>1</td>\n",
       "      <td>0</td>\n",
       "      <td>0</td>\n",
       "      <td>0</td>\n",
       "      <td>1</td>\n",
       "      <td>0</td>\n",
       "      <td>0</td>\n",
       "      <td>1</td>\n",
       "    </tr>\n",
       "    <tr>\n",
       "      <th>923</th>\n",
       "      <td>1342-JPNKI</td>\n",
       "      <td>0</td>\n",
       "      <td>10</td>\n",
       "      <td>86.05</td>\n",
       "      <td>834.10</td>\n",
       "      <td>1</td>\n",
       "      <td>0</td>\n",
       "      <td>0</td>\n",
       "      <td>0</td>\n",
       "      <td>1</td>\n",
       "      <td>...</td>\n",
       "      <td>0</td>\n",
       "      <td>1</td>\n",
       "      <td>1</td>\n",
       "      <td>0</td>\n",
       "      <td>0</td>\n",
       "      <td>1</td>\n",
       "      <td>0</td>\n",
       "      <td>0</td>\n",
       "      <td>0</td>\n",
       "      <td>0</td>\n",
       "    </tr>\n",
       "    <tr>\n",
       "      <th>2370</th>\n",
       "      <td>3397-AVTKU</td>\n",
       "      <td>0</td>\n",
       "      <td>43</td>\n",
       "      <td>60.00</td>\n",
       "      <td>2548.55</td>\n",
       "      <td>1</td>\n",
       "      <td>0</td>\n",
       "      <td>0</td>\n",
       "      <td>0</td>\n",
       "      <td>0</td>\n",
       "      <td>...</td>\n",
       "      <td>1</td>\n",
       "      <td>1</td>\n",
       "      <td>0</td>\n",
       "      <td>0</td>\n",
       "      <td>1</td>\n",
       "      <td>0</td>\n",
       "      <td>0</td>\n",
       "      <td>0</td>\n",
       "      <td>1</td>\n",
       "      <td>0</td>\n",
       "    </tr>\n",
       "  </tbody>\n",
       "</table>\n",
       "<p>5 rows × 31 columns</p>\n",
       "</div>"
      ],
      "text/plain": [
       "     customer_id  senior_citizen  tenure  monthly_charges  total_charges  \\\n",
       "2865  4083-BFNYK               1      38            95.00        3591.25   \n",
       "4107  5804-LEPIM               1       2            70.35         139.05   \n",
       "3453  4895-TMWIR               1      11            19.95         214.75   \n",
       "923   1342-JPNKI               0      10            86.05         834.10   \n",
       "2370  3397-AVTKU               0      43            60.00        2548.55   \n",
       "\n",
       "      gender_Male  partner_Yes  dependents_Yes  \\\n",
       "2865            0            1               0   \n",
       "4107            0            0               0   \n",
       "3453            1            1               0   \n",
       "923             1            0               0   \n",
       "2370            1            0               0   \n",
       "\n",
       "      multiple_lines_No phone service  multiple_lines_Yes  ...  \\\n",
       "2865                                0                   1  ...   \n",
       "4107                                0                   0  ...   \n",
       "3453                                0                   0  ...   \n",
       "923                                 0                   1  ...   \n",
       "2370                                0                   0  ...   \n",
       "\n",
       "      streaming_movies_Yes  paperless_billing_Yes  churn_Yes  \\\n",
       "2865                     1                      0          0   \n",
       "4107                     0                      1          1   \n",
       "3453                     0                      0          1   \n",
       "923                      0                      1          1   \n",
       "2370                     1                      1          0   \n",
       "\n",
       "      contract_type_One year  contract_type_Two year  \\\n",
       "2865                       1                       0   \n",
       "4107                       0                       0   \n",
       "3453                       0                       0   \n",
       "923                        0                       0   \n",
       "2370                       0                       1   \n",
       "\n",
       "      internet_service_type_Fiber optic  \\\n",
       "2865                                  1   \n",
       "4107                                  1   \n",
       "3453                                  0   \n",
       "923                                   1   \n",
       "2370                                  0   \n",
       "\n",
       "      internet_service_type_No internet service  \\\n",
       "2865                                          0   \n",
       "4107                                          0   \n",
       "3453                                          1   \n",
       "923                                           0   \n",
       "2370                                          0   \n",
       "\n",
       "      payment_type_Credit card (automatic)  payment_type_Electronic check  \\\n",
       "2865                                     1                              0   \n",
       "4107                                     0                              1   \n",
       "3453                                     0                              0   \n",
       "923                                      0                              0   \n",
       "2370                                     0                              1   \n",
       "\n",
       "      payment_type_Mailed check  \n",
       "2865                          0  \n",
       "4107                          0  \n",
       "3453                          1  \n",
       "923                           0  \n",
       "2370                          0  \n",
       "\n",
       "[5 rows x 31 columns]"
      ]
     },
     "execution_count": 29,
     "metadata": {},
     "output_type": "execute_result"
    }
   ],
   "source": [
    "train.head()"
   ]
  },
  {
   "cell_type": "code",
   "execution_count": 23,
   "id": "fc5c4cbc-6feb-4d44-b9dd-61f387816b6c",
   "metadata": {
    "tags": []
   },
   "outputs": [
    {
     "ename": "KeyError",
     "evalue": "\"['churn_yes'] not found in axis\"",
     "output_type": "error",
     "traceback": [
      "\u001b[0;31m---------------------------------------------------------------------------\u001b[0m",
      "\u001b[0;31mKeyError\u001b[0m                                  Traceback (most recent call last)",
      "Cell \u001b[0;32mIn[23], line 2\u001b[0m\n\u001b[1;32m      1\u001b[0m \u001b[38;5;66;03m### We want everything EXCEPT the target variable\u001b[39;00m\n\u001b[0;32m----> 2\u001b[0m X_train \u001b[38;5;241m=\u001b[39m train\u001b[38;5;241m.\u001b[39mdrop(columns \u001b[38;5;241m=\u001b[39m \u001b[38;5;124m'\u001b[39m\u001b[38;5;124mchurn_yes\u001b[39m\u001b[38;5;124m'\u001b[39m)\n\u001b[1;32m      3\u001b[0m X_validate \u001b[38;5;241m=\u001b[39m validate\u001b[38;5;241m.\u001b[39mdrop(columns \u001b[38;5;241m=\u001b[39m \u001b[38;5;124m'\u001b[39m\u001b[38;5;124mchurn_yes\u001b[39m\u001b[38;5;124m'\u001b[39m)\n\u001b[1;32m      4\u001b[0m X_test \u001b[38;5;241m=\u001b[39m test\u001b[38;5;241m.\u001b[39mdrop(columns \u001b[38;5;241m=\u001b[39m \u001b[38;5;124m'\u001b[39m\u001b[38;5;124mchurn_yes\u001b[39m\u001b[38;5;124m'\u001b[39m)\n",
      "File \u001b[0;32m/opt/homebrew/anaconda3/lib/python3.11/site-packages/pandas/core/frame.py:5258\u001b[0m, in \u001b[0;36mDataFrame.drop\u001b[0;34m(self, labels, axis, index, columns, level, inplace, errors)\u001b[0m\n\u001b[1;32m   5110\u001b[0m \u001b[38;5;28;01mdef\u001b[39;00m \u001b[38;5;21mdrop\u001b[39m(\n\u001b[1;32m   5111\u001b[0m     \u001b[38;5;28mself\u001b[39m,\n\u001b[1;32m   5112\u001b[0m     labels: IndexLabel \u001b[38;5;241m=\u001b[39m \u001b[38;5;28;01mNone\u001b[39;00m,\n\u001b[0;32m   (...)\u001b[0m\n\u001b[1;32m   5119\u001b[0m     errors: IgnoreRaise \u001b[38;5;241m=\u001b[39m \u001b[38;5;124m\"\u001b[39m\u001b[38;5;124mraise\u001b[39m\u001b[38;5;124m\"\u001b[39m,\n\u001b[1;32m   5120\u001b[0m ) \u001b[38;5;241m-\u001b[39m\u001b[38;5;241m>\u001b[39m DataFrame \u001b[38;5;241m|\u001b[39m \u001b[38;5;28;01mNone\u001b[39;00m:\n\u001b[1;32m   5121\u001b[0m \u001b[38;5;250m    \u001b[39m\u001b[38;5;124;03m\"\"\"\u001b[39;00m\n\u001b[1;32m   5122\u001b[0m \u001b[38;5;124;03m    Drop specified labels from rows or columns.\u001b[39;00m\n\u001b[1;32m   5123\u001b[0m \n\u001b[0;32m   (...)\u001b[0m\n\u001b[1;32m   5256\u001b[0m \u001b[38;5;124;03m            weight  1.0     0.8\u001b[39;00m\n\u001b[1;32m   5257\u001b[0m \u001b[38;5;124;03m    \"\"\"\u001b[39;00m\n\u001b[0;32m-> 5258\u001b[0m     \u001b[38;5;28;01mreturn\u001b[39;00m \u001b[38;5;28msuper\u001b[39m()\u001b[38;5;241m.\u001b[39mdrop(\n\u001b[1;32m   5259\u001b[0m         labels\u001b[38;5;241m=\u001b[39mlabels,\n\u001b[1;32m   5260\u001b[0m         axis\u001b[38;5;241m=\u001b[39maxis,\n\u001b[1;32m   5261\u001b[0m         index\u001b[38;5;241m=\u001b[39mindex,\n\u001b[1;32m   5262\u001b[0m         columns\u001b[38;5;241m=\u001b[39mcolumns,\n\u001b[1;32m   5263\u001b[0m         level\u001b[38;5;241m=\u001b[39mlevel,\n\u001b[1;32m   5264\u001b[0m         inplace\u001b[38;5;241m=\u001b[39minplace,\n\u001b[1;32m   5265\u001b[0m         errors\u001b[38;5;241m=\u001b[39merrors,\n\u001b[1;32m   5266\u001b[0m     )\n",
      "File \u001b[0;32m/opt/homebrew/anaconda3/lib/python3.11/site-packages/pandas/core/generic.py:4549\u001b[0m, in \u001b[0;36mNDFrame.drop\u001b[0;34m(self, labels, axis, index, columns, level, inplace, errors)\u001b[0m\n\u001b[1;32m   4547\u001b[0m \u001b[38;5;28;01mfor\u001b[39;00m axis, labels \u001b[38;5;129;01min\u001b[39;00m axes\u001b[38;5;241m.\u001b[39mitems():\n\u001b[1;32m   4548\u001b[0m     \u001b[38;5;28;01mif\u001b[39;00m labels \u001b[38;5;129;01mis\u001b[39;00m \u001b[38;5;129;01mnot\u001b[39;00m \u001b[38;5;28;01mNone\u001b[39;00m:\n\u001b[0;32m-> 4549\u001b[0m         obj \u001b[38;5;241m=\u001b[39m obj\u001b[38;5;241m.\u001b[39m_drop_axis(labels, axis, level\u001b[38;5;241m=\u001b[39mlevel, errors\u001b[38;5;241m=\u001b[39merrors)\n\u001b[1;32m   4551\u001b[0m \u001b[38;5;28;01mif\u001b[39;00m inplace:\n\u001b[1;32m   4552\u001b[0m     \u001b[38;5;28mself\u001b[39m\u001b[38;5;241m.\u001b[39m_update_inplace(obj)\n",
      "File \u001b[0;32m/opt/homebrew/anaconda3/lib/python3.11/site-packages/pandas/core/generic.py:4591\u001b[0m, in \u001b[0;36mNDFrame._drop_axis\u001b[0;34m(self, labels, axis, level, errors, only_slice)\u001b[0m\n\u001b[1;32m   4589\u001b[0m         new_axis \u001b[38;5;241m=\u001b[39m axis\u001b[38;5;241m.\u001b[39mdrop(labels, level\u001b[38;5;241m=\u001b[39mlevel, errors\u001b[38;5;241m=\u001b[39merrors)\n\u001b[1;32m   4590\u001b[0m     \u001b[38;5;28;01melse\u001b[39;00m:\n\u001b[0;32m-> 4591\u001b[0m         new_axis \u001b[38;5;241m=\u001b[39m axis\u001b[38;5;241m.\u001b[39mdrop(labels, errors\u001b[38;5;241m=\u001b[39merrors)\n\u001b[1;32m   4592\u001b[0m     indexer \u001b[38;5;241m=\u001b[39m axis\u001b[38;5;241m.\u001b[39mget_indexer(new_axis)\n\u001b[1;32m   4594\u001b[0m \u001b[38;5;66;03m# Case for non-unique axis\u001b[39;00m\n\u001b[1;32m   4595\u001b[0m \u001b[38;5;28;01melse\u001b[39;00m:\n",
      "File \u001b[0;32m/opt/homebrew/anaconda3/lib/python3.11/site-packages/pandas/core/indexes/base.py:6699\u001b[0m, in \u001b[0;36mIndex.drop\u001b[0;34m(self, labels, errors)\u001b[0m\n\u001b[1;32m   6697\u001b[0m \u001b[38;5;28;01mif\u001b[39;00m mask\u001b[38;5;241m.\u001b[39many():\n\u001b[1;32m   6698\u001b[0m     \u001b[38;5;28;01mif\u001b[39;00m errors \u001b[38;5;241m!=\u001b[39m \u001b[38;5;124m\"\u001b[39m\u001b[38;5;124mignore\u001b[39m\u001b[38;5;124m\"\u001b[39m:\n\u001b[0;32m-> 6699\u001b[0m         \u001b[38;5;28;01mraise\u001b[39;00m \u001b[38;5;167;01mKeyError\u001b[39;00m(\u001b[38;5;124mf\u001b[39m\u001b[38;5;124m\"\u001b[39m\u001b[38;5;132;01m{\u001b[39;00m\u001b[38;5;28mlist\u001b[39m(labels[mask])\u001b[38;5;132;01m}\u001b[39;00m\u001b[38;5;124m not found in axis\u001b[39m\u001b[38;5;124m\"\u001b[39m)\n\u001b[1;32m   6700\u001b[0m     indexer \u001b[38;5;241m=\u001b[39m indexer[\u001b[38;5;241m~\u001b[39mmask]\n\u001b[1;32m   6701\u001b[0m \u001b[38;5;28;01mreturn\u001b[39;00m \u001b[38;5;28mself\u001b[39m\u001b[38;5;241m.\u001b[39mdelete(indexer)\n",
      "\u001b[0;31mKeyError\u001b[0m: \"['churn_yes'] not found in axis\""
     ]
    }
   ],
   "source": [
    "### We want everything EXCEPT the target variable\n",
    "X_train = train.drop(columns = 'churn_yes')\n",
    "X_validate = validate.drop(columns = 'churn_yes')\n",
    "X_test = test.drop(columns = 'churn_yes')"
   ]
  },
  {
   "cell_type": "code",
   "execution_count": null,
   "id": "b6e6cc53-cbf5-4478-b53c-3ee98ba8d968",
   "metadata": {},
   "outputs": [],
   "source": []
  },
  {
   "cell_type": "markdown",
   "id": "hydraulic-spectrum",
   "metadata": {},
   "source": [
    "### Introduction\n",
    "* Explain how you will be evaluating your models\n",
    "* Include the evaluation metric you will be using and why you have chosen it\n",
    "* Create a baseline and briefly explain how it was calculated "
   ]
  },
  {
   "cell_type": "code",
   "execution_count": 20,
   "id": "ranging-rebecca",
   "metadata": {},
   "outputs": [],
   "source": [
    "# If you use code to generate your baseline run the code and generate the output here"
   ]
  },
  {
   "cell_type": "markdown",
   "id": "thick-dream",
   "metadata": {},
   "source": [
    "Printout should read: <br>\n",
    "Baseline: \"number\" \"evaluation metric\""
   ]
  },
  {
   "cell_type": "markdown",
   "id": "emotional-purchase",
   "metadata": {},
   "source": [
    "### Best 3 Models\n",
    "* Show the three best model results obtained using your selected features to predict the target variable\n",
    "* Typically students will show the top models they are able to generate for three different model types"
   ]
  },
  {
   "cell_type": "markdown",
   "id": "gentle-capability",
   "metadata": {},
   "source": [
    "## You may use this as a template for how to introduce your models:"
   ]
  },
  {
   "cell_type": "markdown",
   "id": "intensive-vietnamese",
   "metadata": {},
   "source": [
    "### Model Type"
   ]
  },
  {
   "cell_type": "code",
   "execution_count": 4,
   "id": "colonial-newport",
   "metadata": {},
   "outputs": [],
   "source": [
    "# Code that runs the best model in that model type goes here \n",
    "# (This may be imported from a module)"
   ]
  },
  {
   "cell_type": "markdown",
   "id": "distinguished-abuse",
   "metadata": {},
   "source": [
    "Printout of model code should read: <br>\n",
    "\"Model Type\" <br>\n",
    "\"evaluation metric\" on train: \"evaluation result\" <br>\n",
    "\"evaluation metric\" on validate: \"evaluation result\""
   ]
  },
  {
   "cell_type": "markdown",
   "id": "regulated-fellowship",
   "metadata": {},
   "source": [
    "### Test Model\n",
    "* Choose the best model out of the three as you best model and explain why you have chosen it\n",
    "* Explain that you will now run your final model on test data to gauge how it will perform on unseen data"
   ]
  },
  {
   "cell_type": "code",
   "execution_count": 5,
   "id": "optical-quilt",
   "metadata": {},
   "outputs": [],
   "source": [
    "# Code that runs the best overall model on test data (this may be imported from a module)"
   ]
  },
  {
   "cell_type": "markdown",
   "id": "motivated-recycling",
   "metadata": {},
   "source": [
    "Printout of model code should read: <br>\n",
    "\"Model Type\" <br>\n",
    "\"evaluation metric\" on Test: \"evaluation result\" <br>"
   ]
  },
  {
   "cell_type": "markdown",
   "id": "bright-evans",
   "metadata": {},
   "source": [
    "### Modeling Wrap \n",
    "* Give a final interpretation of how the models test score compares to the baseline and weather you would recommend this model for production"
   ]
  },
  {
   "cell_type": "markdown",
   "id": "tutorial-twelve",
   "metadata": {},
   "source": [
    "## Conclusion\n",
    "\n",
    "### Summary\n",
    "* I would believe RandomForest would be the best due to the risk of overfitting.\n",
    "* Identifiers of churn were `tech_support`, `internet_service_type`, and `monthly_charges`.\n",
    "* `phone_service` was independent of churn\n",
    "\n",
    "### Recommendations\n",
    "* I recommend finding the issues with fiber_optic internet and would possibly offer tech support for free or cheaper, since people without it tent to leave.\n",
    "\n",
    "### Next Steps\n",
    "- Look into the high monthly charges and the contract type to see if more expensive month to month is causing more churn\n",
    "\n",
    "- Given more time I could check what is causing the high monthly charges that lead to customers churning"
   ]
  },
  {
   "cell_type": "markdown",
   "id": "20981561-7a24-429f-bdad-830f94740959",
   "metadata": {},
   "source": [
    "# CSV Export "
   ]
  },
  {
   "cell_type": "markdown",
   "id": "tender-source",
   "metadata": {},
   "source": [
    "**Where there is code in your report there should also be code comments telling the reader what each code block is doing. This is true for any and all code blocks even if you are using a function to import code from a module.**\n",
    "<br>\n",
    "<br>\n",
    "**Your Notebook should contain adequate markdown that documents your thought process, decision making, and navigation through the pipeline. As a Data Scientist, your job does not end with making data discoveries. It includes effectively communicating those discoveries as well. This means documentation is a critical part of your job.**"
   ]
  }
 ],
 "metadata": {
  "kernelspec": {
   "display_name": "Python 3 (ipykernel)",
   "language": "python",
   "name": "python3"
  },
  "language_info": {
   "codemirror_mode": {
    "name": "ipython",
    "version": 3
   },
   "file_extension": ".py",
   "mimetype": "text/x-python",
   "name": "python",
   "nbconvert_exporter": "python",
   "pygments_lexer": "ipython3",
   "version": "3.11.5"
  }
 },
 "nbformat": 4,
 "nbformat_minor": 5
}
